{
 "cells": [
  {
   "cell_type": "code",
   "execution_count": 502,
   "id": "6793a56c",
   "metadata": {},
   "outputs": [],
   "source": [
    "# Librerias\n",
    "import os\n",
    "from bs4 import BeautifulSoup\n",
    "from unidecode import unidecode\n",
    "import datetime\n",
    "import traceback\n",
    "import json\n",
    "import csv\n",
    "import pandas as pd\n",
    "import jellyfish\n",
    "from collections import OrderedDict\n",
    "import matplotlib\n",
    "import matplotlib.pyplot as plt"
   ]
  },
  {
   "cell_type": "code",
   "execution_count": 503,
   "id": "125e31d4",
   "metadata": {},
   "outputs": [],
   "source": [
    "# Parámetros\n",
    "sourceDataFolder = \"1-source-data\"\n",
    "\n",
    "bumeraniterationNumber = \"4\"\n",
    "bumeranRootPath = sourceDataFolder + r\"\\main\\bumeran\\iteration-\" + bumeraniterationNumber\n",
    "\n",
    "linkediniterationNumber = \"2\"\n",
    "linkedinRootPath = sourceDataFolder + r\"\\main\\linkedin\\iteration-\" + linkediniterationNumber\n",
    "\n",
    "intermFilesFolder = \"2-intermediate-files\"\n",
    "mergedMainFolder = \"3-merged-main\"\n",
    "logsFolder = \"4-logs\"\n",
    "\n",
    "dataVisualizationTopLimit = 20\n",
    "\n",
    "counterIn = 0\n",
    "counterOut = 0"
   ]
  },
  {
   "cell_type": "code",
   "execution_count": 504,
   "id": "85e41e8a",
   "metadata": {},
   "outputs": [],
   "source": [
    "# Funciones utilitarias\n",
    "def find_nth(haystack, needle, n):\n",
    "    start = haystack.find(needle)\n",
    "    while start >= 0 and n > 1:\n",
    "        start = haystack.find(needle, start+len(needle))\n",
    "        n -= 1\n",
    "    return start\n",
    "\n",
    "def parseLineBreaksAndAccents(text):\n",
    "  return unidecode(\" \".join(text.split()))\n",
    "\n",
    "def parseNames(text):\n",
    "  return text.strip().title()\n",
    "\n",
    "def findTags(tag, color):\n",
    "  return tag.find(\"span\", {\"style\": 'font-size:10.0pt;font-family:\"Arial\",sans-serif;mso-fareast-font-family:\\n\"Times New Roman\";color:' + color })\n",
    "\n",
    "def getChildIndex(mainChildTags, title, color):\n",
    "  return next((index for index, tag in enumerate(mainChildTags) if ( findTags(tag, color).text == title if findTags(tag, color) else False )), None)\n",
    "\n",
    "def getSectionsIndexes(mainChildTags, color):\n",
    "  sectionsIndexes = []\n",
    "  sectionsTitle = [\"Experiencia laboral\", \"Educación\", \"Informática\", \"Idiomas\", \"Otros Conocimientos\"]\n",
    "  \n",
    "  for sectionTitle in sectionsTitle:\n",
    "    sectionIndex = getChildIndex(mainChildTags, sectionTitle, color)\n",
    "    sectionsIndexes.append(sectionIndex)\n",
    "  \n",
    "  sectionsIndexes.append(len(mainChildTags)-1)\n",
    "  return sectionsIndexes\n",
    "\n",
    "def getNextSectionIndexValid(sectionsIndexes, i):\n",
    "  while(not sectionsIndexes[i]):\n",
    "    i = i + 1\n",
    "\n",
    "  return sectionsIndexes[i]\n",
    "\n",
    "def readJson(path, encoding='utf-8', errors=None):\n",
    "  with open (path, \"r\", encoding=encoding, errors=errors) as f:\n",
    "    data = json.loads(f.read())\n",
    "  return data\n",
    "\n",
    "def writeJson(data, pathJson, encoding='utf-8'):\n",
    "  with open(pathJson, 'w', encoding=encoding) as f:\n",
    "    json.dump(data, f, indent=4, ensure_ascii=False)\n",
    "\n",
    "def writeCsv(data, pathCsv, encoding='utf-8'):\n",
    "  with open(pathCsv, 'w', newline='', encoding=encoding) as f:\n",
    "    if data:\n",
    "      writer = csv.DictWriter(f, fieldnames=data[0].keys(), lineterminator='\\n')\n",
    "      writer.writeheader()\n",
    "      writer.writerows(data)\n",
    "    else:\n",
    "      f.write(\"\")\n",
    "\n",
    "def writeTxt(data, pathTxt, encoding='utf-8'):\n",
    "  with open(pathTxt, 'w', encoding=encoding) as f:\n",
    "    f.write(data)"
   ]
  },
  {
   "cell_type": "code",
   "execution_count": 505,
   "id": "bbd47f9a",
   "metadata": {},
   "outputs": [],
   "source": [
    "# Funciones principales\n",
    "def getFiles(rootPath, source):\n",
    "  # Obteniendo todas las carpetas de los perfiles\n",
    "  folders = [f for f in os.listdir(rootPath) if os.path.isdir(os.path.join(rootPath, f))]\n",
    "\n",
    "  # Definiendo la lista de archivos final\n",
    "  files = []\n",
    "\n",
    "  # Iterando sobre las carpetas\n",
    "  for folder in folders:\n",
    "    # Obteniendo los archivos por cada carpeta\n",
    "    folderFiles = [os.path.join(rootPath, folder, f) for f in os.listdir(os.path.join(rootPath, folder)) if os.path.isfile(os.path.join(rootPath, folder, f))]\n",
    "\n",
    "    # Agregando esos archivos a la lista de archivos final\n",
    "    if folderFiles:\n",
    "      files.extend(folderFiles)\n",
    "\n",
    "  # Filtros específicos por cada origen\n",
    "  if source == \"bumeran\":\n",
    "    filesFiltered = [f for f in files if (\"\\Has recibido un CV para el aviso\" in f)]\n",
    "  else:\n",
    "    filesFiltered = files\n",
    "\n",
    "  # Filtros para considerar un archivo especifico\n",
    "  filterIsIn = [\n",
    "    #r\"1-source-data\\main\\bumeran\\iteration-4\\analista-calidad\\Has recibido un CV para el aviso _Analista de Calidad_(76).html\"\n",
    "    #r\"1-source-data\\main\\bumeran\\iteration-4\\analista-funcional\\Has recibido un CV para el aviso _Analista Funcional_(110).html\"\n",
    "    #r\"1-source-data\\main\\linkedin\\iteration-2\\bandeja-entrada\\New application_ .NET Developer from Cesar Ospino.html\"\n",
    "    #r\"1-source-data\\main\\bumeran\\iteration-4\\a-considerar\\Has recibido un CV para el aviso _Practicante de Infrastructure & Cloud_(1).html\"\n",
    "    #r\"1-source-data\\main\\bumeran\\iteration-4\\a-considerar\\Has recibido un CV para el aviso _Practicante de Infrastructure & Cloud_.html\"\n",
    "    #r\"1-source-data\\main\\bumeran\\iteration-4\\analista-calidad\\Has recibido un CV para el aviso _Analista de Calidad Sr. (Test Lead)_(1).html\"\n",
    "    #r\"1-source-data\\main\\bumeran\\iteration-4\\analista-calidad\\Has recibido un CV para el aviso _Analista de Calidad_(1).html\"\n",
    "    #r\"1-source-data\\main\\bumeran\\iteration-4\\bandeja-entrada\\Has recibido un CV para el aviso _Analista Programador Senior_Full Stack_(2).html\"\n",
    "    #r\"1-source-data\\main\\bumeran\\iteration-4\\bandeja-entrada\\Has recibido un CV para el aviso _Analista Programador_(6).html\"\n",
    "    #r\"1-source-data\\main\\bumeran\\iteration-4\\programador-net\\Has recibido un CV para el aviso _Programador .Net Senior_(4).html\"\n",
    "    #r\"1-source-data\\main\\bumeran\\iteration-4\\bandeja-entrada\\Has recibido un CV para el aviso _Analista de Sistemas_(24).html\"\n",
    "  ]\n",
    "  filesFilteredIsIn = [f for f in filesFiltered if ( f in filterIsIn if filterIsIn else True )]\n",
    "\n",
    "  # Filtros para omitir un archivo especifico\n",
    "  filterIsNotIn = [\n",
    "    # 3 archivos con data incompleta\n",
    "    r\"1-source-data\\main\\bumeran\\iteration-4\\bandeja-entrada\\Has recibido un CV para el aviso _Analista Programador Senior_Full Stack_(2).html\",\n",
    "    r\"1-source-data\\main\\bumeran\\iteration-4\\bandeja-entrada\\Has recibido un CV para el aviso _Analista Programador_(6).html\",\n",
    "    r\"1-source-data\\main\\bumeran\\iteration-4\\programador-net\\Has recibido un CV para el aviso _Programador .Net Senior_(4).html\",\n",
    "    \n",
    "  ]\n",
    "  filesFilteredNotIn = [f for f in filesFilteredIsIn if ( f not in filterIsNotIn if filterIsNotIn else True )]\n",
    "\n",
    "  # Limites superiores e inferiores en la búsqueda de archivos\n",
    "  startLimit = None\n",
    "  topLimit = None\n",
    "  filesFilteredLimits = filesFilteredNotIn[(startLimit-1 if startLimit else 0): (topLimit if topLimit else len(files))]\n",
    "\n",
    "  return filesFilteredLimits"
   ]
  },
  {
   "cell_type": "code",
   "execution_count": 506,
   "id": "21425e85",
   "metadata": {},
   "outputs": [],
   "source": [
    "def getEncodingBumeran(file, stringLog):\n",
    "  encoding = \"windows-1252\"\n",
    "  try:\n",
    "    with open(file, \"r\", encoding=\"utf-16-le\") as f:\n",
    "      if \"charset=unicode\" in f.read():\n",
    "        encoding = 'utf-16-le'\n",
    "      else:\n",
    "        raise Exception\n",
    "  except Exception as e:\n",
    "    try:\n",
    "      with open(file, \"r\", encoding=\"windows-1252\") as f:\n",
    "        if \"charset=windows-1252\" in f.read():\n",
    "          encoding = 'windows-1252'\n",
    "        else:\n",
    "          encoding = encoding\n",
    "    except Exception as e:\n",
    "      print(file)\n",
    "      stringLog = stringLog + file + \"\\n\"\n",
    "      traceback.print_exc()\n",
    "      stringLog = stringLog + traceback.format_exc() + \"\\n\"\n",
    "      print()\n",
    "      stringLog = stringLog + \"\\n\"\n",
    "      pass\n",
    "      \n",
    "  return encoding, stringLog"
   ]
  },
  {
   "cell_type": "code",
   "execution_count": 507,
   "id": "c06d9351",
   "metadata": {},
   "outputs": [],
   "source": [
    "def getEncodingLinkedin(file, stringLog):\n",
    "  encoding = \"windows-1256\"\n",
    "  try:\n",
    "    with open(file, \"r\", encoding=\"utf-16-le\") as f:\n",
    "      if \"charset=unicode\" in f.read():\n",
    "        encoding = 'utf-16-le'\n",
    "      else:\n",
    "        raise Exception\n",
    "  except Exception as e:\n",
    "    try:\n",
    "      with open(file, \"r\", encoding=\"windows-1256\") as f:\n",
    "        if \"charset=windows-1256\" in f.read():\n",
    "          encoding = 'windows-1256'\n",
    "        else:\n",
    "          encoding = encoding\n",
    "    except Exception as e:\n",
    "      print(file)\n",
    "      stringLog = stringLog + file + \"\\n\"\n",
    "      traceback.print_exc()\n",
    "      stringLog = stringLog + traceback.format_exc() + \"\\n\"\n",
    "      print()\n",
    "      stringLog = stringLog + \"\\n\"\n",
    "      pass\n",
    "      \n",
    "  return encoding, stringLog"
   ]
  },
  {
   "cell_type": "code",
   "execution_count": 508,
   "id": "c6d1455f",
   "metadata": {},
   "outputs": [],
   "source": [
    "def getCandidateBumeran(file, encoding, stringLog):\n",
    "  candidateData = {}\n",
    " \n",
    "  try:\n",
    "  # Abriendo el archivo\n",
    "    with open(file, \"r\", encoding=encoding) as myFile:\n",
    "      #Parseando el archivo html a soup\n",
    "      soup = BeautifulSoup(myFile.read(), \"lxml\")\n",
    "\n",
    "      # Obteniendo cada uno de los campos para la data\n",
    "\n",
    "      # Fecha de postulación\n",
    "      spanDates = soup.find_all(\"span\", {\"style\": \"color:black\"})\n",
    "      if len(spanDates) > 4:\n",
    "        rawPostulationDate = spanDates[3].text\n",
    "        postulationDate = datetime.datetime.strptime(spanDates[3].text, \"%A, %B %d, %Y %I:%M %p\")\n",
    "      else:\n",
    "        spanDates2 = soup.find_all(\"span\", {\"style\": 'font-family:\"Calibri\",sans-serif;color:black'})\n",
    "        rawPostulationDate = spanDates2[3].text\n",
    "        postulationDate = datetime.datetime.strptime(spanDates2[3].text, \"%A, %B %d, %Y %I:%M %p\")\n",
    "        \n",
    "      candidateData[\"postulationDate\"] = postulationDate.strftime(\"%Y-%m-%d\")\n",
    "\n",
    "      # Definiendo los colores a usar para las búsquedas según las fechas\n",
    "      # En la fecha 2020-06-11 cambio el color de los titulos de cada sección\n",
    "      inflexionDate = datetime.datetime(2020,6,11,12,5,0)\n",
    "      colorTitle, colorSections = (\"#008599\", \"#2192C9\") if postulationDate <= inflexionDate else (\"#E90066\", \"#0A26EE\")\n",
    "\n",
    "      \"\"\"# Nombre del perfil\n",
    "      candidateData[\"profileName\"] = parseNames(parseLineBreaksAndAccents(soup.findAll(\"span\", {\"style\": (\"color:\" + colorTitle) })[0].text))\n",
    "\n",
    "      # Nombre del postulante\n",
    "      rawcandidateName = soup.find_all(\"ul\", {\"type\": \"disc\"})[0].find_all(\"span\")[0].text # El split join tambien quita saltos de línea\n",
    "      candidateData[\"candidateName\"] = parseNames(parseLineBreaksAndAccents(rawcandidateName))\n",
    "\n",
    "      # Pais de residencia\n",
    "      tagResidenceCountry = soup.find_all(\"ul\", {\"type\": \"disc\"})[0].find_all(\"span\")\n",
    "      if len(tagResidenceCountry) > 2:\n",
    "        if tagResidenceCountry[2].text.find(\",\") != -1:\n",
    "          residenceCountry = parseNames(parseLineBreaksAndAccents(tagResidenceCountry[2].text[0:tagResidenceCountry[2].text.find(\",\")]))\n",
    "          if residenceCountry != \"\":\n",
    "            candidateData[\"residenceCountry\"] = residenceCountry\n",
    "          else:\n",
    "            raise Exception(\"Error no mapeado 1\")\n",
    "        else:\n",
    "          # Intentando sacarlo del pais de nacimiento\n",
    "          if tagResidenceCountry[8].text.find(\",\") != -1:\n",
    "            residenceCountry = parseNames(parseLineBreaksAndAccents(tagResidenceCountry[8].text[tagResidenceCountry[8].text.rfind(\",\")+2:]))\n",
    "            if residenceCountry != \"\":\n",
    "              candidateData[\"residenceCountry\"] = residenceCountry\n",
    "            else:\n",
    "              raise Exception(\"Error no mapeado 3\")\n",
    "          else:\n",
    "            # Analizar si permitir o no\n",
    "            raise Exception(\"Error no mapeado 2\")\n",
    "      else:\n",
    "        raise Exception(\"Error no mapeado 4 (posiblemente data incompleta como los 3 casos)\")\n",
    "      \"\"\"\n",
    "      \n",
    "      mainDivTag = soup.find_all(\"div\", {\"style\": 'background-position-x:50%;background-position-y:100%'})[0]\n",
    "      mainChildTags = mainDivTag.find_all(recursive=False)\n",
    "\n",
    "      sectionsIndexes = getSectionsIndexes(mainChildTags, colorSections)\n",
    "      \n",
    "      \"\"\"# Experiencia laboral\n",
    "      startIndex, endIndex = sectionsIndexes[0], getNextSectionIndexValid(sectionsIndexes, 1)\n",
    "\n",
    "      if startIndex and endIndex:\n",
    "        workExperienceTags = mainChildTags[startIndex+2:endIndex]\n",
    "        candidateData[\"lastWorkCenter\"] = parseNames(parseLineBreaksAndAccents(workExperienceTags[0].find_all(\"b\")[0].text))\n",
    "        candidateData[\"lastWorkPosition\"] = parseNames(parseLineBreaksAndAccents(workExperienceTags[1].find_all(\"b\")[0].text))\n",
    "\n",
    "        daysOfExperience = 0\n",
    "        for index in range(0, len(workExperienceTags), 2):\n",
    "          startDate = datetime.datetime.strptime(parseLineBreaksAndAccents(workExperienceTags[index].text)[0: parseLineBreaksAndAccents(workExperienceTags[index].text).find(\" - \")] , \"%d-%m-%Y\")\n",
    "          endDateText = parseLineBreaksAndAccents(workExperienceTags[index].text)[parseLineBreaksAndAccents(workExperienceTags[index].text).find(\" - \")+3: parseLineBreaksAndAccents(workExperienceTags[index].text).find(\" | \")]\n",
    "          endDate = datetime.datetime.strptime(endDateText, \"%d-%m-%Y\") if endDateText != \"Presente\" else datetime.datetime.strptime(rawPostulationDate, \"%A, %B %d, %Y %I:%M %p\")\n",
    "          daysOfExperience = daysOfExperience + (endDate - startDate).days\n",
    "        candidateData[\"yearsOfExperience\"] = int(daysOfExperience/365)\n",
    "        candidateData[\"worksNumber\"] = int(len(workExperienceTags)/2)\n",
    "      else:\n",
    "        # No tienen esta sección, se comprobo con busquedas\n",
    "        # Analizar si permitir o no\n",
    "        #candidateData[\"lastWorkCenter\"] = candidateData[\"lastWorkPosition\"] = \"\"\n",
    "        #candidateData[\"yearsOfExperience\"] = 0\n",
    "        #candidateData[\"worksNumber\"] = 0\n",
    "        raise Exception(\"561 errores mapeados (no tienen experiencia laboral)\")\n",
    "      \"\"\"\n",
    "      \n",
    "      \"\"\"# Carrera profesional (última alcanzada)\n",
    "      startIndex, endIndex = sectionsIndexes[1], getNextSectionIndexValid(sectionsIndexes, 2)\n",
    "\n",
    "      if startIndex and endIndex:\n",
    "        educationTags = mainChildTags[startIndex+2:endIndex]\n",
    "        \n",
    "        careerTags0 = educationTags[0].find_all(\"b\")\n",
    "        candidateData[\"studyCenter\"] = parseNames(parseLineBreaksAndAccents(careerTags0[0].text))\n",
    "        candidateData[\"careerField\"] = parseNames(parseLineBreaksAndAccents(careerTags0[1].text))\n",
    "\n",
    "        careerTags1 = educationTags[1].find_all(\"span\")\n",
    "        tempText = careerTags1[1].text\n",
    "        candidateData[\"careerStatus\"] = parseNames(parseLineBreaksAndAccents(tempText[tempText.find(\",\")+2:tempText.rfind(\",\")]))\n",
    "        candidateData[\"careerDegree\"] = parseNames(parseLineBreaksAndAccents(tempText[tempText.rfind(\",\")+2:tempText.rfind(\".\")]))\n",
    "        candidateData[\"studiesNumber\"] = int(len(educationTags)/2)\n",
    "      else:\n",
    "        raise Exception(\"121 errores mapeados (no tienen educación)\")\"\"\"\n",
    "\n",
    "      \"\"\"\n",
    "      # Habilidades técnicas\n",
    "      informaticsIndex = getChildIndex(mainChildTags, \"Informática\", color)\n",
    "      languageIndex = getChildIndex(mainChildTags, \"Idiomas\", color)\n",
    "\n",
    "      if informaticsIndex and languageIndex:\n",
    "        # Falta mejorar la validación (algunos tienen solo u, solo carrera o ninguno)\n",
    "        technicalSkillsTags = mainChildTags[informaticsIndex+2:languageIndex][0].find_all(\"span\")\n",
    "        candidateData[\"technicalSkills\"] = int(len(technicalSkillsTags)/4)\n",
    "\n",
    "      else:\n",
    "        candidateData[\"technicalSkills\"] = 0\n",
    "\n",
    "      # Falta habilidades blandas\n",
    "\n",
    "      # Lenguajes\n",
    "      languageIndex = getChildIndex(mainChildTags, \"Idiomas\", color)\n",
    "      otherKnowledgesIndex = getChildIndex(mainChildTags, \"Otros Conocimientos\", color)\n",
    "\n",
    "      if languageIndex and otherKnowledgesIndex:\n",
    "        # Falta mejorar la validación (algunos tienen solo u, solo carrera o ninguno)\n",
    "        languagesTags = mainChildTags[languageIndex+2:otherKnowledgesIndex][0].find_all(\"span\")\n",
    "        candidateData[\"languages\"] = int(len(languagesTags)/7)\n",
    "\n",
    "      else:\n",
    "        candidateData[\"languages\"] = 1\n",
    "\n",
    "      # Otros conocimientos\n",
    "      otherKnowledgesIndex = getChildIndex(mainChildTags, \"Otros Conocimientos\", color)\n",
    "      endIndex = len(mainChildTags)-1\n",
    "\n",
    "      if languageIndex and otherKnowledgesIndex:\n",
    "        # Falta mejorar la validación (algunos tienen solo u, solo carrera o ninguno)\n",
    "        otherKnowledgesTags = mainChildTags[otherKnowledgesIndex+2:endIndex][0].find_all(\"span\")\n",
    "        candidateData[\"anotherSkills\"] = int(len(otherKnowledgesTags)/3)\n",
    "      else:\n",
    "        candidateData[\"anotherSkills\"] = 0\n",
    "\n",
    "      candidateData[\"references\"] = 0\n",
    "\n",
    "      # Salario pretendido\n",
    "      tagsSalary = [index for index, tag in enumerate(soup.find_all(\"span\")) if \"Sueldo pretendido\" in tag.text]\n",
    "      if len(tagsSalary) > 0:\n",
    "        rawSalary = soup.find_all(\"span\")[tagsSalary[0]+1].text\n",
    "        candidateData[\"salary\"] = int(float(parseLineBreaksAndAccents(\" \".join(rawSalary.split()))[1:].title()))\n",
    "      else:\n",
    "        candidateData[\"salary\"] = 0\"\"\"\n",
    "\n",
    "  except Exception as e:\n",
    "    candidateData = {}\n",
    "    print(file)\n",
    "    stringLog = stringLog + str(file) + \"\\n\"\n",
    "    traceback.print_exc()\n",
    "    stringLog = stringLog + traceback.format_exc() + \"\\n\"\n",
    "    print()\n",
    "    stringLog = stringLog + \"\\n\"\n",
    "    pass\n",
    "\n",
    "  return candidateData, stringLog"
   ]
  },
  {
   "cell_type": "code",
   "execution_count": 509,
   "id": "54cef587",
   "metadata": {},
   "outputs": [],
   "source": [
    "def getCandidateLinkedin(file, encoding, stringLog):\n",
    "  candidateData = {}\n",
    "\n",
    "  try:\n",
    "  # Abriendo el archivo\n",
    "    with open(file, \"r\", encoding=encoding) as myFile:\n",
    "      #Parseando el archivo html a soup\n",
    "      \n",
    "      soup = BeautifulSoup(myFile.read(), \"lxml\")\n",
    "\n",
    "      spanBlack = soup.find_all(\"span\", {\"style\": \"color:black\"})\n",
    "      if len(spanBlack) > 4:\n",
    "        postulationDate = datetime.datetime.strptime(spanBlack[3].text, \"%A, %B %d, %Y %I:%M %p\")\n",
    "      else:\n",
    "        spanBlack2 = soup.find_all(\"span\", {\"style\": 'font-family:\"Calibri\",sans-serif;color:black'})\n",
    "        postulationDate = datetime.datetime.strptime(spanBlack2[3].text, \"%A, %B %d, %Y %I:%M %p\")\n",
    "\n",
    "      # Cambiar el lugar de donde se saca, sacarlo del body no del asunto\n",
    "      if len(spanBlack) > 7:\n",
    "        rawProfileName = parseLineBreaksAndAccents(spanBlack[7].text)\n",
    "      else:\n",
    "        spanBlack2 = soup.find_all(\"span\", {\"style\": 'font-family:\"Calibri\",sans-serif;color:black'})\n",
    "        rawProfileName = parseLineBreaksAndAccents(spanBlack2[7].text)\n",
    "\n",
    "      startIndexProfileName = rawProfileName.find(\": \")\n",
    "      endIndexProfileName = rawProfileName.find(\" from \")\n",
    "\n",
    "      if postulationDate <= datetime.datetime(2022,9,23,2,15,0):\n",
    "        \n",
    "        candidateData[\"postulationDate\"] = postulationDate.strftime(\"%Y-%m-%d\")\n",
    "\n",
    "        candidateData[\"profileName\"] = parseNames(parseLineBreaksAndAccents(rawProfileName[startIndexProfileName+1:endIndexProfileName]))\n",
    "\n",
    "        candidateData[\"candidateName\"] = parseNames(parseLineBreaksAndAccents(soup.find(\"span\", {\"style\": \"font-size:10.5pt;color:#262626;text-decoration:none;\\n            text-underline:none\"}).text))\n",
    "\n",
    "        tempSpanTags = soup.find_all(\"span\", {\"style\": 'font-size:9.0pt;font-family:\\n            \"Helvetica\",sans-serif;color:#737373'})\n",
    "        existsCountry = True if len(tempSpanTags) > 1 else False\n",
    "        candidateData[\"residenceCountry\"] = parseNames(parseLineBreaksAndAccents(tempSpanTags[len(tempSpanTags)-1].text)) if existsCountry else \"\"\n",
    "\n",
    "        candidateData[\"channel\"] = \"Linkedin\"\n",
    "\n",
    "        tableTags = soup.find_all(\"table\")\n",
    "\n",
    "        notHaveScreening = True if \"Screening qualifications\" not in str(soup) else False\n",
    "        startTag = 15 if notHaveScreening else 16\n",
    "        endTag = len(tableTags)-3\n",
    "        findedTableTags = tableTags[startTag:endTag]\n",
    "\n",
    "        haveTags = [None, None, None, None, None]\n",
    "\n",
    "        for index, tag in enumerate(findedTableTags):\n",
    "          haveTags[0] = index if \"Current experience\" in tag.text else haveTags[0]\n",
    "          haveTags[1] = index if \"Past experience\" in tag.text else haveTags[1]\n",
    "          haveTags[2] = index if \"Education\" in tag.text else haveTags[2]\n",
    "          haveTags[3] = index if \"Skills matching your job\" in tag.text else haveTags[3]\n",
    "          haveTags[4] = index if \"Highlight\" in tag.text else haveTags[4]\n",
    "\n",
    "        for index, haveTag in enumerate(haveTags):\n",
    "          if index == 0:\n",
    "            if haveTag is not None:\n",
    "              #spanTags = findedTableTags[haveTag].find_all(\"tr\")[1].find_all(\"span\") Caso particular que no vale la pena\n",
    "              #startSpanIndex = 0 if len(spanTags) == 2 else len(spanTags)-3\n",
    "              candidateData[\"lastWorkCenter\"] = parseNames(parseLineBreaksAndAccents(findedTableTags[haveTag].find_all(\"tr\")[1].find_all(\"span\")[0].text).split(\" at \")[1])\n",
    "              candidateData[\"lastWorkPosition\"] = parseNames(parseLineBreaksAndAccents(findedTableTags[haveTag].find_all(\"tr\")[1].find_all(\"span\")[0].text).split(\" at \")[0])\n",
    "            else:\n",
    "              candidateData[\"lastWorkCenter\"] = candidateData[\"lastWorkPosition\"] = \"\"\n",
    "          \n",
    "          elif index == 1:\n",
    "            if haveTag is not None:\n",
    "              daysOfExperience = 0\n",
    "              trTag = findedTableTags[haveTag].find_all(\"tr\")[1]\n",
    "              pTags = trTag.find_all(\"p\")\n",
    "              for pTag in pTags:\n",
    "                spanTag = parseLineBreaksAndAccents(pTag.find_all(\"span\")[1].text)\n",
    "                startDate = datetime.datetime.strptime(spanTag.split(\" - \")[0], \"%Y\")\n",
    "                endDate = datetime.datetime.strptime(spanTag.split(\" - \")[1], \"%Y\")\n",
    "                daysOfExperience = daysOfExperience + (endDate - startDate).days\n",
    "              candidateData[\"yearsOfExperience\"] = int(daysOfExperience/365)\n",
    "              candidateData[\"worksNumber\"] = int(len(pTags))\n",
    "            else:\n",
    "              candidateData[\"yearsOfExperience\"] = 0\n",
    "              candidateData[\"worksNumber\"] = 0\n",
    "\n",
    "          elif index == 2:\n",
    "            # No se tiene el careerStatus en linkedin\n",
    "            if haveTag is not None:\n",
    "              trTags = findedTableTags[haveTag].find_all(\"tr\")[1:]\n",
    "              #print(trTags[0])\n",
    "              firstCenterWithDateIndex = -1\n",
    "              studiesNumber = 0\n",
    "              for index, trTag in enumerate(trTags):\n",
    "                if(len(trTag.find_all(\"span\"))>1):\n",
    "                  if(len(trTags[index-1].find_all(\"span\")) == 1):\n",
    "                    if firstCenterWithDateIndex == -1:\n",
    "                      firstCenterWithDateIndex = index-1\n",
    "                if(len(trTag.find_all(\"span\"))==1):\n",
    "                  studiesNumber = studiesNumber + 1\n",
    "              \n",
    "              #print(firstCenterWithDateIndex)\n",
    "              #print(trTags[firstCenterWithDateIndex+1].find_all(\"span\")[0].text.split(\", \")[1])\n",
    "              #print(trTags[firstCenterWithDateIndex+1].find_all(\"span\")[0].text.split(\", \"))\n",
    "              #print(parseLineBreaksAndAccents(trTags[firstCenterWithDateIndex+1].find_all(\"span\")[0].text.split(\", \")[1]))\n",
    "\n",
    "              if firstCenterWithDateIndex != -1:\n",
    "                candidateData[\"studyCenter\"] = parseNames(parseLineBreaksAndAccents(trTags[firstCenterWithDateIndex].text))\n",
    "                tempTagArray = trTags[firstCenterWithDateIndex+1].find_all(\"span\")[0].text.split(\",\")\n",
    "                candidateData[\"careerField\"] = parseNames(parseLineBreaksAndAccents(trTags[firstCenterWithDateIndex+1].find_all(\"span\")[0].text.split(\",\")[1])) if len(tempTagArray) > 1 else \"\"\n",
    "                candidateData[\"careerStatus\"] = \"En Curso\" if (\"Present\" in parseLineBreaksAndAccents(trTags[firstCenterWithDateIndex+1].find_all(\"span\")[1].text)) else \"Graduado\"\n",
    "                tempText = parseLineBreaksAndAccents(trTags[firstCenterWithDateIndex+1].find_all(\"span\")[0].text.split(\",\")[0])\n",
    "                candidateData[\"careerDegree\"] = parseNames(parseLineBreaksAndAccents(tempText)) if not tempText[0:4].isnumeric() else \"\"\n",
    "              else:\n",
    "                candidateData[\"studyCenter\"] = parseNames(parseLineBreaksAndAccents(trTags[0].text))\n",
    "                candidateData[\"careerField\"] = \"\"\n",
    "                candidateData[\"careerStatus\"] = \"\"\n",
    "                candidateData[\"careerDegree\"] = \"\"\n",
    "              \n",
    "              candidateData[\"studiesNumber\"] = studiesNumber\n",
    "            else:\n",
    "              candidateData[\"studyCenter\"] = \"\"\n",
    "              candidateData[\"careerField\"] = \"\"\n",
    "              candidateData[\"careerStatus\"] = \"\"\n",
    "              candidateData[\"careerDegree\"] = \"\"\n",
    "              candidateData[\"studiesNumber\"] = 0\n",
    "          elif index == 3:\n",
    "            if haveTag is not None:\n",
    "              skillsCounter = 0\n",
    "              spanTags = findedTableTags[haveTag].find_all(\"tr\")[1].find_all(\"span\")\n",
    "              for spanTag in spanTags:\n",
    "                if \"\".join(spanTag[\"style\"].split()) == 'font-size:10.5pt;font-family:\"Helvetica\",sans-serif;mso-fareast-font-family:\"TimesNewRoman\";color:#4D4D4D':\n",
    "                  skillsCounter = skillsCounter + 1\n",
    "              \n",
    "              candidateData[\"technicalSkills\"] = skillsCounter\n",
    "            else:\n",
    "              candidateData[\"technicalSkills\"] = 0\n",
    "            \n",
    "            candidateData[\"languages\"] = 1\n",
    "            candidateData[\"anotherSkills\"] = 0 if notHaveScreening else int(parseLineBreaksAndAccents(soup.find_all(\"table\")[10].text)[parseLineBreaksAndAccents(soup.find_all(\"table\")[10].text).find(\": \")+2: parseLineBreaksAndAccents(soup.find_all(\"table\")[10].text).find(\"/\")])\n",
    "          elif index == 4:\n",
    "            if haveTag is not None:\n",
    "              highlightText = parseLineBreaksAndAccents(findedTableTags[haveTag].find_all(\"tr\")[1].text)\n",
    "              isKnows = True if (\"knows\" in highlightText) else False\n",
    "              #print(isKnows)\n",
    "              isMoreThanTwo = True if (\"others\" in highlightText) else False\n",
    "              if isKnows and isMoreThanTwo:\n",
    "                candidateData[\"references\"] = int(highlightText[highlightText.find(\" and \")+5:highlightText.find(\" others \")])\n",
    "              elif isKnows and not isMoreThanTwo:\n",
    "                candidateData[\"references\"] = int(highlightText.count(\" and \") + 1)\n",
    "              else:\n",
    "                candidateData[\"references\"] = int(highlightText[highlightText.find(\" hired \")+7:highlightText.find(\" people \")])\n",
    "            else:\n",
    "              candidateData[\"references\"] = 0\n",
    "        candidateData[\"salary\"] = 0\n",
    "        \n",
    "      else:\n",
    "        candidateData[\"postulationDate\"] = postulationDate.strftime(\"%Y-%m-%d\")\n",
    "\n",
    "        candidateData[\"profileName\"] = parseNames(parseLineBreaksAndAccents(rawProfileName[startIndexProfileName+1:endIndexProfileName]))\n",
    "\n",
    "        candidateData[\"candidateName\"] = parseNames(parseLineBreaksAndAccents(soup.find(\"span\", {\"style\": \"color:#0A66C2;text-decoration:none;text-underline:none\"}).text))\n",
    "        \n",
    "        tempSpanTags = soup.find_all(\"span\", {\"style\": 'font-size:10.5pt;font-family:\"Helvetica\",sans-serif;\\n          color:#737373'})\n",
    "        existsCountry = True if len(tempSpanTags) > 1 else False\n",
    "        candidateData[\"residenceCountry\"] = parseNames(parseLineBreaksAndAccents(tempSpanTags[len(tempSpanTags)-1].text)) if existsCountry else \"\"\n",
    "\n",
    "        candidateData[\"channel\"] = \"Linkedin\"\n",
    "\n",
    "        tableTags = soup.find_all(\"table\")\n",
    "\n",
    "        startTag = 14\n",
    "        endTag = len(tableTags)-3\n",
    "        findedTableTags = tableTags[startTag:endTag]\n",
    "\n",
    "        haveTags = [None, None, None, None, None]\n",
    "\n",
    "        for index, tag in enumerate(findedTableTags):\n",
    "          haveTags[0] = index if \"Current experience\" in tag.text else haveTags[0]\n",
    "          haveTags[1] = index if \"Past experience\" in tag.text else haveTags[1]\n",
    "          haveTags[2] = index if \"Education\" in tag.text else haveTags[2]\n",
    "          haveTags[3] = index if \"Screening qualifications\" in tag.text else haveTags[3]\n",
    "          haveTags[4] = index if \"Highlight\" in tag.text else haveTags[4]\n",
    "        \n",
    "        for index, haveTag in enumerate(haveTags):\n",
    "          if index == 0:\n",
    "            if haveTag is not None:\n",
    "              tempTrTags = parseLineBreaksAndAccents(findedTableTags[haveTag].find_all(\"tr\")[1].find_all(\"span\")[0].text).split(\" at \")\n",
    "              #print(tempTrTags[1].find_all(\"span\")[0].text)\n",
    "              tempWorkCenter = tempTrTags[1] if len(tempTrTags) > 1 else \"\"\n",
    "              candidateData[\"lastWorkCenter\"] = parseNames(parseLineBreaksAndAccents(tempWorkCenter[0:tempWorkCenter.rfind(\" - \")-4])) if tempWorkCenter != \"\" else \"\"\n",
    "              candidateData[\"lastWorkPosition\"] = parseNames(parseLineBreaksAndAccents(findedTableTags[haveTag].find_all(\"tr\")[1].find_all(\"span\")[0].text).split(\" at \")[0])\n",
    "            else:\n",
    "              candidateData[\"lastWorkCenter\"] = candidateData[\"lastWorkPosition\"] = \"\"\n",
    "          \n",
    "          elif index == 1:\n",
    "            if haveTag is not None:\n",
    "              daysOfExperience = 0\n",
    "              trTags = [x for x in findedTableTags[haveTag].find_all(\"tr\") if x.find(\"span\", {\"style\": 'font-size:9.0pt;font-family:\"Helvetica\",sans-serif;\\n          color:#737373'})]\n",
    "              #print(trTags)\n",
    "              for trTag in trTags:\n",
    "                #print(pTag.text)\n",
    "                spanTag = parseLineBreaksAndAccents(trTag.find_all(\"span\")[0].text)\n",
    "                #print(spanTag)\n",
    "                #print(\"\".isnumeric())\n",
    "                if spanTag[spanTag.rfind(\" - \")-4:spanTag.rfind(\" - \")].isnumeric() and spanTag[spanTag.rfind(\" - \")+3:spanTag.rfind(\" - \")+7].isnumeric():\n",
    "                  startDate = datetime.datetime.strptime(spanTag[spanTag.rfind(\" - \")-4:spanTag.rfind(\" - \")], \"%Y\")\n",
    "                  endDate = datetime.datetime.strptime(spanTag[spanTag.rfind(\" - \")+3:spanTag.rfind(\" - \")+7], \"%Y\")\n",
    "                  daysOfExperience = daysOfExperience + (endDate - startDate).days\n",
    "              candidateData[\"yearsOfExperience\"] = int(daysOfExperience/365)\n",
    "              candidateData[\"worksNumber\"] = int(len(trTags))\n",
    "            else:\n",
    "              candidateData[\"yearsOfExperience\"] = 0\n",
    "              candidateData[\"worksNumber\"] = 0\n",
    "\n",
    "          elif index == 2:\n",
    "            # No se tiene el careerStatus en linkedin\n",
    "            if haveTag is not None:\n",
    "              trTags = findedTableTags[haveTag].find_all(\"tr\")[1:]\n",
    "              #print(trTags[0])\n",
    "              firstCenterWithDateIndex = -1\n",
    "              studiesNumber = 0\n",
    "              for index, trTag in enumerate(trTags):\n",
    "                if \" - \" in parseLineBreaksAndAccents(trTag.text):\n",
    "                  if \" - \" not in parseLineBreaksAndAccents(trTags[index-1].text):\n",
    "                    if firstCenterWithDateIndex == -1:\n",
    "                      firstCenterWithDateIndex = index-1\n",
    "                if(\" - \" not in parseLineBreaksAndAccents(trTag.text)):\n",
    "                  studiesNumber = studiesNumber + 1\n",
    "              #print(firstCenterWithDateIndex)\n",
    "              if firstCenterWithDateIndex != -1:\n",
    "                #print(\"GA\")\n",
    "                candidateData[\"studyCenter\"] = parseNames(parseLineBreaksAndAccents(trTags[firstCenterWithDateIndex].text))\n",
    "                tempTagArray = parseNames(parseLineBreaksAndAccents(trTags[firstCenterWithDateIndex+1].find(\"span\").text))\n",
    "                candidateData[\"careerField\"] = parseNames(parseLineBreaksAndAccents(tempTagArray[tempTagArray.find(\", \")+1:tempTagArray.rfind(\" - \")-4]))\n",
    "                candidateData[\"careerStatus\"] = \"En Curso\" if (\"Present\" in tempTagArray) else \"Graduado\"\n",
    "                candidateData[\"careerDegree\"] = parseNames(parseLineBreaksAndAccents(tempTagArray[0:tempTagArray.find(\", \")])) if tempTagArray.find(\", \") != -1 else \"\"\n",
    "                #print(candidateData)\n",
    "              else:\n",
    "                candidateData[\"studyCenter\"] = parseNames(parseLineBreaksAndAccents(trTags[0].text))\n",
    "                candidateData[\"careerField\"] = \"\"\n",
    "                candidateData[\"careerStatus\"] = \"\"\n",
    "                candidateData[\"careerDegree\"] = \"\"\n",
    "              \n",
    "              candidateData[\"studiesNumber\"] = studiesNumber\n",
    "            else:\n",
    "              candidateData[\"studyCenter\"] = \"\"\n",
    "              candidateData[\"careerField\"] = \"\"\n",
    "              candidateData[\"careerStatus\"] = \"\"\n",
    "              candidateData[\"careerDegree\"] = \"\"\n",
    "              candidateData[\"studiesNumber\"] = 0\n",
    "          \n",
    "          elif index == 3:\n",
    "            if haveTag is not None:\n",
    "              candidateData[\"technicalSkills\"] = 0\n",
    "              candidateData[\"languages\"] = 1\n",
    "              candidateData[\"anotherSkills\"] = int(parseLineBreaksAndAccents(findedTableTags[haveTag].find_all(\"tr\")[1].text)[0])\n",
    "            else:\n",
    "              candidateData[\"technicalSkills\"] = 0\n",
    "              candidateData[\"languages\"] = 1\n",
    "              candidateData[\"anotherSkills\"] = 0\n",
    "            \n",
    "          elif index == 4:\n",
    "            if haveTag is not None:\n",
    "              highlightText = parseLineBreaksAndAccents(findedTableTags[haveTag].find_all(\"tr\")[1].text)\n",
    "              #print(highlightText)\n",
    "              isKnows = True if (\"knows\" in highlightText) else False\n",
    "              #print(isKnows)\n",
    "              isMoreThanTwo = True if (\"others\" in highlightText) else False\n",
    "              if isKnows and isMoreThanTwo:\n",
    "                candidateData[\"references\"] = int(highlightText[highlightText.find(\" and \")+5:highlightText.find(\" others \")])\n",
    "              elif isKnows and not isMoreThanTwo:\n",
    "                candidateData[\"references\"] = int(highlightText.count(\" and \") + 1)\n",
    "              else:\n",
    "                candidateData[\"references\"] = int(highlightText[highlightText.find(\" hired \")+7:highlightText.find(\" people \")])\n",
    "            else:\n",
    "              candidateData[\"references\"] = 0\n",
    "        candidateData[\"salary\"] = 0\n",
    "      \n",
    "  except Exception as e:\n",
    "    candidateData = {}\n",
    "    print(file)\n",
    "    stringLog = stringLog + str(file) + \"\\n\"\n",
    "    traceback.print_exc()\n",
    "    stringLog = stringLog + traceback.format_exc() + \"\\n\"\n",
    "    print()\n",
    "    stringLog = stringLog + \"\\n\"\n",
    "    pass\n",
    "  \n",
    "  return candidateData, stringLog"
   ]
  },
  {
   "cell_type": "code",
   "execution_count": 510,
   "id": "1799b345",
   "metadata": {},
   "outputs": [],
   "source": [
    "def iterateFiles(files, source):\n",
    "  # Definiendo el log de errores\n",
    "  stringLog = \"\"\n",
    "\n",
    "  # Definiendo la data final de candidatos\n",
    "  data = []\n",
    "  \n",
    "  # Iterando por cada archivo\n",
    "  for file in files:\n",
    "    # Obteniendo el encoding por cada archivo\n",
    "    encoding, stringLog = getEncodingBumeran(file, stringLog) if source == 'bumeran' else getEncodingLinkedin(file, stringLog)\n",
    "\n",
    "    # Obteniendo los datos por cada archivo\n",
    "    candidate, stringLog = getCandidateBumeran(file, encoding, stringLog) if source == 'bumeran' else getCandidateLinkedin(file, encoding, stringLog)\n",
    "    \n",
    "    # Añadiendo los datos del candidato a la data final\n",
    "    if (candidate):\n",
    "      data.append(candidate)\n",
    "\n",
    "  return data, stringLog"
   ]
  },
  {
   "cell_type": "code",
   "execution_count": 511,
   "id": "472c3692",
   "metadata": {},
   "outputs": [],
   "source": [
    "def readAndWriteMain(source):\n",
    "  # Definiendo la carpeta raiz de los archivos a buscar, según el origen\n",
    "  rootPath = bumeranRootPath if source == \"bumeran\" else linkedinRootPath\n",
    "\n",
    "  # Obteniendo la lista de archivos, según el origen\n",
    "  files = getFiles(rootPath, source)\n",
    "\n",
    "  # Iterando sobre los archivos, calculando la data y el log de error\n",
    "  data, stringLog = iterateFiles(files, source)\n",
    "\n",
    "  # Escribiendo la data de los candidatos (json y csv)\n",
    "  writeJson(data, os.path.join(intermFilesFolder, source + '.json'))\n",
    "  writeCsv(data, os.path.join(intermFilesFolder, source + '.csv'))\n",
    "\n",
    "  # Escribiendo el log de errores\n",
    "  writeTxt(stringLog, os.path.join(logsFolder, source, datetime.datetime.now().strftime(\"%Y-%m-%d %H-%M-%S\") + \".txt\"), 'utf-16')\n",
    "\n",
    "  return data"
   ]
  },
  {
   "cell_type": "code",
   "execution_count": 512,
   "id": "a8528b29",
   "metadata": {},
   "outputs": [],
   "source": [
    "def readAndWriteMergedMain(mainData):\n",
    "  mainMergeddata = []\n",
    "  for elem in mainData:\n",
    "    if (elem):\n",
    "      mainMergeddata.extend(elem)\n",
    "\n",
    "  writeJson(mainMergeddata, os.path.join(mergedMainFolder, \"result.json\"), 'utf-8')\n",
    "  writeCsv(mainMergeddata, os.path.join(mergedMainFolder, \"result.csv\"), 'utf-8')\n",
    "\n",
    "  return mainMergeddata"
   ]
  },
  {
   "cell_type": "code",
   "execution_count": 513,
   "id": "2925ffdd",
   "metadata": {},
   "outputs": [],
   "source": [
    "def visualizeData(mergedMainData):\n",
    "  df = pd.DataFrame(mergedMainData)\n",
    "\n",
    "  print(df.count())\n",
    "\n",
    "  #columns = [\"profileName\", \"residenceCountry\", \"lastWorkCenter\", \"lastWorkPosition\", \"yearsOfExperience\", \"worksNumber\"]\n",
    "  #columns = [\"lastWorkCenter\", \"lastWorkPosition\", \"yearsOfExperience\", \"worksNumber\"]\n",
    "  columns = [\"studyCenter\", \"careerField\", \"careerStatus\", \"careerDegree\", \"studiesNumber\"]\n",
    "  for column in columns:\n",
    "    top10 = df[column].value_counts()[:dataVisualizationTopLimit]\n",
    "    print(top10)\n",
    "    y_axis = list(reversed(top10.index))\n",
    "    x_axis = list(reversed(top10.values))\n",
    "    plt.ylabel(column)\n",
    "    plt.barh(y_axis, x_axis)\n",
    "    plt.show()"
   ]
  },
  {
   "cell_type": "code",
   "execution_count": 514,
   "id": "c9021c08",
   "metadata": {},
   "outputs": [
    {
     "name": "stdout",
     "output_type": "stream",
     "text": [
      "Inicio: 2023-05-11 01:35:40.285078\n",
      "Se inició el procesamiento\n",
      "1-source-data\\main\\bumeran\\iteration-4\\analista-calidad\\Has recibido un CV para el aviso _Analista de Calidad Senior_(10).html\n",
      "\n"
     ]
    },
    {
     "name": "stderr",
     "output_type": "stream",
     "text": [
      "Traceback (most recent call last):\n",
      "  File \"C:\\Users\\Ronaldo\\AppData\\Local\\Temp\\ipykernel_17716\\3341127752.py\", line 100, in getCandidateBumeran\n",
      "    candidateData[\"careerField\"] = parseNames(parseLineBreaksAndAccents(careerTags0[1].text))\n",
      "IndexError: list index out of range\n"
     ]
    },
    {
     "name": "stdout",
     "output_type": "stream",
     "text": [
      "1-source-data\\main\\bumeran\\iteration-4\\analista-calidad\\Has recibido un CV para el aviso _Analista de Calidad_(92).html\n",
      "\n"
     ]
    },
    {
     "name": "stderr",
     "output_type": "stream",
     "text": [
      "Traceback (most recent call last):\n",
      "  File \"C:\\Users\\Ronaldo\\AppData\\Local\\Temp\\ipykernel_17716\\3341127752.py\", line 100, in getCandidateBumeran\n",
      "    candidateData[\"careerField\"] = parseNames(parseLineBreaksAndAccents(careerTags0[1].text))\n",
      "IndexError: list index out of range\n"
     ]
    },
    {
     "name": "stdout",
     "output_type": "stream",
     "text": [
      "1-source-data\\main\\bumeran\\iteration-4\\analista-calidad\\Has recibido un CV para el aviso _Analista QA_(8).html\n",
      "\n"
     ]
    },
    {
     "name": "stderr",
     "output_type": "stream",
     "text": [
      "Traceback (most recent call last):\n",
      "  File \"C:\\Users\\Ronaldo\\AppData\\Local\\Temp\\ipykernel_17716\\3341127752.py\", line 100, in getCandidateBumeran\n",
      "    candidateData[\"careerField\"] = parseNames(parseLineBreaksAndAccents(careerTags0[1].text))\n",
      "IndexError: list index out of range\n"
     ]
    },
    {
     "name": "stdout",
     "output_type": "stream",
     "text": [
      "1-source-data\\main\\bumeran\\iteration-4\\analista-funcional\\Has recibido un CV para el aviso _Analista Funcional_(142).html\n",
      "\n"
     ]
    },
    {
     "name": "stderr",
     "output_type": "stream",
     "text": [
      "Traceback (most recent call last):\n",
      "  File \"C:\\Users\\Ronaldo\\AppData\\Local\\Temp\\ipykernel_17716\\3341127752.py\", line 100, in getCandidateBumeran\n",
      "    candidateData[\"careerField\"] = parseNames(parseLineBreaksAndAccents(careerTags0[1].text))\n",
      "IndexError: list index out of range\n"
     ]
    },
    {
     "name": "stdout",
     "output_type": "stream",
     "text": [
      "1-source-data\\main\\bumeran\\iteration-4\\analista-funcional\\Has recibido un CV para el aviso _Analista Funcional_(18).html\n",
      "\n"
     ]
    },
    {
     "name": "stderr",
     "output_type": "stream",
     "text": [
      "Traceback (most recent call last):\n",
      "  File \"C:\\Users\\Ronaldo\\AppData\\Local\\Temp\\ipykernel_17716\\3341127752.py\", line 100, in getCandidateBumeran\n",
      "    candidateData[\"careerField\"] = parseNames(parseLineBreaksAndAccents(careerTags0[1].text))\n",
      "IndexError: list index out of range\n"
     ]
    },
    {
     "name": "stdout",
     "output_type": "stream",
     "text": [
      "1-source-data\\main\\bumeran\\iteration-4\\analista-funcional\\Has recibido un CV para el aviso _Analista Funcional_(47).html\n",
      "\n"
     ]
    },
    {
     "name": "stderr",
     "output_type": "stream",
     "text": [
      "Traceback (most recent call last):\n",
      "  File \"C:\\Users\\Ronaldo\\AppData\\Local\\Temp\\ipykernel_17716\\3341127752.py\", line 100, in getCandidateBumeran\n",
      "    candidateData[\"careerField\"] = parseNames(parseLineBreaksAndAccents(careerTags0[1].text))\n",
      "IndexError: list index out of range\n"
     ]
    },
    {
     "name": "stdout",
     "output_type": "stream",
     "text": [
      "1-source-data\\main\\bumeran\\iteration-4\\bandeja-entrada\\Has recibido un CV para el aviso _Analista de Calidad.v_(1).html\n",
      "\n",
      "1-source-data\\main\\bumeran\\iteration-4\\bandeja-entrada\\Has recibido un CV para el aviso _Analista de Calidad_(11).html\n",
      "\n"
     ]
    },
    {
     "name": "stderr",
     "output_type": "stream",
     "text": [
      "Traceback (most recent call last):\n",
      "  File \"C:\\Users\\Ronaldo\\AppData\\Local\\Temp\\ipykernel_17716\\3341127752.py\", line 100, in getCandidateBumeran\n",
      "    candidateData[\"careerField\"] = parseNames(parseLineBreaksAndAccents(careerTags0[1].text))\n",
      "IndexError: list index out of range\n",
      "Traceback (most recent call last):\n",
      "  File \"C:\\Users\\Ronaldo\\AppData\\Local\\Temp\\ipykernel_17716\\3341127752.py\", line 100, in getCandidateBumeran\n",
      "    candidateData[\"careerField\"] = parseNames(parseLineBreaksAndAccents(careerTags0[1].text))\n",
      "IndexError: list index out of range\n"
     ]
    },
    {
     "name": "stdout",
     "output_type": "stream",
     "text": [
      "1-source-data\\main\\bumeran\\iteration-4\\bandeja-entrada\\Has recibido un CV para el aviso _Analista de Sistemas Sr._(15).html\n",
      "\n",
      "1-source-data\\main\\bumeran\\iteration-4\\bandeja-entrada\\Has recibido un CV para el aviso _Analista de Sistemas Sr._(16).html\n",
      "\n"
     ]
    },
    {
     "name": "stderr",
     "output_type": "stream",
     "text": [
      "Traceback (most recent call last):\n",
      "  File \"C:\\Users\\Ronaldo\\AppData\\Local\\Temp\\ipykernel_17716\\3341127752.py\", line 100, in getCandidateBumeran\n",
      "    candidateData[\"careerField\"] = parseNames(parseLineBreaksAndAccents(careerTags0[1].text))\n",
      "IndexError: list index out of range\n",
      "Traceback (most recent call last):\n",
      "  File \"C:\\Users\\Ronaldo\\AppData\\Local\\Temp\\ipykernel_17716\\3341127752.py\", line 100, in getCandidateBumeran\n",
      "    candidateData[\"careerField\"] = parseNames(parseLineBreaksAndAccents(careerTags0[1].text))\n",
      "IndexError: list index out of range\n"
     ]
    },
    {
     "name": "stdout",
     "output_type": "stream",
     "text": [
      "1-source-data\\main\\bumeran\\iteration-4\\bandeja-entrada\\Has recibido un CV para el aviso _Analista de Sistemas Sr._(89).html\n",
      "\n"
     ]
    },
    {
     "name": "stderr",
     "output_type": "stream",
     "text": [
      "Traceback (most recent call last):\n",
      "  File \"C:\\Users\\Ronaldo\\AppData\\Local\\Temp\\ipykernel_17716\\3341127752.py\", line 100, in getCandidateBumeran\n",
      "    candidateData[\"careerField\"] = parseNames(parseLineBreaksAndAccents(careerTags0[1].text))\n",
      "IndexError: list index out of range\n"
     ]
    },
    {
     "name": "stdout",
     "output_type": "stream",
     "text": [
      "1-source-data\\main\\bumeran\\iteration-4\\bandeja-entrada\\Has recibido un CV para el aviso _Analista Desarrollador PHP_(17).html\n",
      "\n"
     ]
    },
    {
     "name": "stderr",
     "output_type": "stream",
     "text": [
      "Traceback (most recent call last):\n",
      "  File \"C:\\Users\\Ronaldo\\AppData\\Local\\Temp\\ipykernel_17716\\3341127752.py\", line 100, in getCandidateBumeran\n",
      "    candidateData[\"careerField\"] = parseNames(parseLineBreaksAndAccents(careerTags0[1].text))\n",
      "IndexError: list index out of range\n"
     ]
    },
    {
     "name": "stdout",
     "output_type": "stream",
     "text": [
      "1-source-data\\main\\bumeran\\iteration-4\\bandeja-entrada\\Has recibido un CV para el aviso _Analista Programador - MVC_(13).html\n",
      "\n",
      "1-source-data\\main\\bumeran\\iteration-4\\bandeja-entrada\\Has recibido un CV para el aviso _Analista Programador - MVC_(2).html\n",
      "\n"
     ]
    },
    {
     "name": "stderr",
     "output_type": "stream",
     "text": [
      "Traceback (most recent call last):\n",
      "  File \"C:\\Users\\Ronaldo\\AppData\\Local\\Temp\\ipykernel_17716\\3341127752.py\", line 100, in getCandidateBumeran\n",
      "    candidateData[\"careerField\"] = parseNames(parseLineBreaksAndAccents(careerTags0[1].text))\n",
      "IndexError: list index out of range\n",
      "Traceback (most recent call last):\n",
      "  File \"C:\\Users\\Ronaldo\\AppData\\Local\\Temp\\ipykernel_17716\\3341127752.py\", line 100, in getCandidateBumeran\n",
      "    candidateData[\"careerField\"] = parseNames(parseLineBreaksAndAccents(careerTags0[1].text))\n",
      "IndexError: list index out of range\n"
     ]
    },
    {
     "name": "stdout",
     "output_type": "stream",
     "text": [
      "1-source-data\\main\\bumeran\\iteration-4\\bandeja-entrada\\Has recibido un CV para el aviso _Analista Programador_(113).html\n",
      "\n"
     ]
    },
    {
     "name": "stderr",
     "output_type": "stream",
     "text": [
      "Traceback (most recent call last):\n",
      "  File \"C:\\Users\\Ronaldo\\AppData\\Local\\Temp\\ipykernel_17716\\3341127752.py\", line 100, in getCandidateBumeran\n",
      "    candidateData[\"careerField\"] = parseNames(parseLineBreaksAndAccents(careerTags0[1].text))\n",
      "IndexError: list index out of range\n"
     ]
    },
    {
     "name": "stdout",
     "output_type": "stream",
     "text": [
      "1-source-data\\main\\bumeran\\iteration-4\\bandeja-entrada\\Has recibido un CV para el aviso _Analista Programador_(64).html\n",
      "\n"
     ]
    },
    {
     "name": "stderr",
     "output_type": "stream",
     "text": [
      "Traceback (most recent call last):\n",
      "  File \"C:\\Users\\Ronaldo\\AppData\\Local\\Temp\\ipykernel_17716\\3341127752.py\", line 100, in getCandidateBumeran\n",
      "    candidateData[\"careerField\"] = parseNames(parseLineBreaksAndAccents(careerTags0[1].text))\n",
      "IndexError: list index out of range\n"
     ]
    },
    {
     "name": "stdout",
     "output_type": "stream",
     "text": [
      "1-source-data\\main\\bumeran\\iteration-4\\bandeja-entrada\\Has recibido un CV para el aviso _Analista Programador_(93).html\n",
      "\n"
     ]
    },
    {
     "name": "stderr",
     "output_type": "stream",
     "text": [
      "Traceback (most recent call last):\n",
      "  File \"C:\\Users\\Ronaldo\\AppData\\Local\\Temp\\ipykernel_17716\\3341127752.py\", line 100, in getCandidateBumeran\n",
      "    candidateData[\"careerField\"] = parseNames(parseLineBreaksAndAccents(careerTags0[1].text))\n",
      "IndexError: list index out of range\n"
     ]
    },
    {
     "name": "stdout",
     "output_type": "stream",
     "text": [
      "1-source-data\\main\\bumeran\\iteration-4\\bandeja-entrada\\Has recibido un CV para el aviso _Arquitecto(a) Analytics_(1).html\n",
      "\n"
     ]
    },
    {
     "name": "stderr",
     "output_type": "stream",
     "text": [
      "Traceback (most recent call last):\n",
      "  File \"C:\\Users\\Ronaldo\\AppData\\Local\\Temp\\ipykernel_17716\\3341127752.py\", line 100, in getCandidateBumeran\n",
      "    candidateData[\"careerField\"] = parseNames(parseLineBreaksAndAccents(careerTags0[1].text))\n",
      "IndexError: list index out of range\n"
     ]
    },
    {
     "name": "stdout",
     "output_type": "stream",
     "text": [
      "1-source-data\\main\\bumeran\\iteration-4\\bandeja-entrada\\Has recibido un CV para el aviso _Asistente Comercial Jr_(49).html\n",
      "\n",
      "1-source-data\\main\\bumeran\\iteration-4\\bandeja-entrada\\Has recibido un CV para el aviso _Asistente Comercial Jr_(57).html\n",
      "\n"
     ]
    },
    {
     "name": "stderr",
     "output_type": "stream",
     "text": [
      "Traceback (most recent call last):\n",
      "  File \"C:\\Users\\Ronaldo\\AppData\\Local\\Temp\\ipykernel_17716\\3341127752.py\", line 100, in getCandidateBumeran\n",
      "    candidateData[\"careerField\"] = parseNames(parseLineBreaksAndAccents(careerTags0[1].text))\n",
      "IndexError: list index out of range\n",
      "Traceback (most recent call last):\n",
      "  File \"C:\\Users\\Ronaldo\\AppData\\Local\\Temp\\ipykernel_17716\\3341127752.py\", line 100, in getCandidateBumeran\n",
      "    candidateData[\"careerField\"] = parseNames(parseLineBreaksAndAccents(careerTags0[1].text))\n",
      "IndexError: list index out of range\n"
     ]
    },
    {
     "name": "stdout",
     "output_type": "stream",
     "text": [
      "1-source-data\\main\\bumeran\\iteration-4\\bandeja-entrada\\Has recibido un CV para el aviso _Asistente Comercial Jr_(88).html\n",
      "\n"
     ]
    },
    {
     "name": "stderr",
     "output_type": "stream",
     "text": [
      "Traceback (most recent call last):\n",
      "  File \"C:\\Users\\Ronaldo\\AppData\\Local\\Temp\\ipykernel_17716\\3341127752.py\", line 100, in getCandidateBumeran\n",
      "    candidateData[\"careerField\"] = parseNames(parseLineBreaksAndAccents(careerTags0[1].text))\n",
      "IndexError: list index out of range\n"
     ]
    },
    {
     "name": "stdout",
     "output_type": "stream",
     "text": [
      "1-source-data\\main\\bumeran\\iteration-4\\bandeja-entrada\\Has recibido un CV para el aviso _Asistente de Servicios TI Jr_(17).html\n",
      "\n"
     ]
    },
    {
     "name": "stderr",
     "output_type": "stream",
     "text": [
      "Traceback (most recent call last):\n",
      "  File \"C:\\Users\\Ronaldo\\AppData\\Local\\Temp\\ipykernel_17716\\3341127752.py\", line 100, in getCandidateBumeran\n",
      "    candidateData[\"careerField\"] = parseNames(parseLineBreaksAndAccents(careerTags0[1].text))\n",
      "IndexError: list index out of range\n"
     ]
    },
    {
     "name": "stdout",
     "output_type": "stream",
     "text": [
      "1-source-data\\main\\bumeran\\iteration-4\\bandeja-entrada\\Has recibido un CV para el aviso _Asistente de Servicios TI Jr_(46).html\n",
      "\n"
     ]
    },
    {
     "name": "stderr",
     "output_type": "stream",
     "text": [
      "Traceback (most recent call last):\n",
      "  File \"C:\\Users\\Ronaldo\\AppData\\Local\\Temp\\ipykernel_17716\\3341127752.py\", line 100, in getCandidateBumeran\n",
      "    candidateData[\"careerField\"] = parseNames(parseLineBreaksAndAccents(careerTags0[1].text))\n",
      "IndexError: list index out of range\n"
     ]
    },
    {
     "name": "stdout",
     "output_type": "stream",
     "text": [
      "1-source-data\\main\\bumeran\\iteration-4\\bandeja-entrada\\Has recibido un CV para el aviso _Asistente de Servicios TI_(28).html\n",
      "\n"
     ]
    },
    {
     "name": "stderr",
     "output_type": "stream",
     "text": [
      "Traceback (most recent call last):\n",
      "  File \"C:\\Users\\Ronaldo\\AppData\\Local\\Temp\\ipykernel_17716\\3341127752.py\", line 100, in getCandidateBumeran\n",
      "    candidateData[\"careerField\"] = parseNames(parseLineBreaksAndAccents(careerTags0[1].text))\n",
      "IndexError: list index out of range\n"
     ]
    },
    {
     "name": "stdout",
     "output_type": "stream",
     "text": [
      "1-source-data\\main\\bumeran\\iteration-4\\bandeja-entrada\\Has recibido un CV para el aviso _Cloud Specialist_(29).html\n",
      "\n"
     ]
    },
    {
     "name": "stderr",
     "output_type": "stream",
     "text": [
      "Traceback (most recent call last):\n",
      "  File \"C:\\Users\\Ronaldo\\AppData\\Local\\Temp\\ipykernel_17716\\3341127752.py\", line 100, in getCandidateBumeran\n",
      "    candidateData[\"careerField\"] = parseNames(parseLineBreaksAndAccents(careerTags0[1].text))\n",
      "IndexError: list index out of range\n"
     ]
    },
    {
     "name": "stdout",
     "output_type": "stream",
     "text": [
      "1-source-data\\main\\bumeran\\iteration-4\\bandeja-entrada\\Has recibido un CV para el aviso _Desarrollador .Net_(20).html\n",
      "\n",
      "1-source-data\\main\\bumeran\\iteration-4\\bandeja-entrada\\Has recibido un CV para el aviso _Desarrollador .NET_(27).html\n",
      "\n",
      "1-source-data\\main\\bumeran\\iteration-4\\bandeja-entrada\\Has recibido un CV para el aviso _Desarrollador .NET_(42).html\n",
      "\n"
     ]
    },
    {
     "name": "stderr",
     "output_type": "stream",
     "text": [
      "Traceback (most recent call last):\n",
      "  File \"C:\\Users\\Ronaldo\\AppData\\Local\\Temp\\ipykernel_17716\\3341127752.py\", line 100, in getCandidateBumeran\n",
      "    candidateData[\"careerField\"] = parseNames(parseLineBreaksAndAccents(careerTags0[1].text))\n",
      "IndexError: list index out of range\n",
      "Traceback (most recent call last):\n",
      "  File \"C:\\Users\\Ronaldo\\AppData\\Local\\Temp\\ipykernel_17716\\3341127752.py\", line 100, in getCandidateBumeran\n",
      "    candidateData[\"careerField\"] = parseNames(parseLineBreaksAndAccents(careerTags0[1].text))\n",
      "IndexError: list index out of range\n",
      "Traceback (most recent call last):\n",
      "  File \"C:\\Users\\Ronaldo\\AppData\\Local\\Temp\\ipykernel_17716\\3341127752.py\", line 100, in getCandidateBumeran\n",
      "    candidateData[\"careerField\"] = parseNames(parseLineBreaksAndAccents(careerTags0[1].text))\n",
      "IndexError: list index out of range\n"
     ]
    },
    {
     "name": "stdout",
     "output_type": "stream",
     "text": [
      "1-source-data\\main\\bumeran\\iteration-4\\bandeja-entrada\\Has recibido un CV para el aviso _Desarrollador de Software_(19).html\n",
      "\n",
      "1-source-data\\main\\bumeran\\iteration-4\\bandeja-entrada\\Has recibido un CV para el aviso _Desarrollador de Software_(28).html\n",
      "\n"
     ]
    },
    {
     "name": "stderr",
     "output_type": "stream",
     "text": [
      "Traceback (most recent call last):\n",
      "  File \"C:\\Users\\Ronaldo\\AppData\\Local\\Temp\\ipykernel_17716\\3341127752.py\", line 100, in getCandidateBumeran\n",
      "    candidateData[\"careerField\"] = parseNames(parseLineBreaksAndAccents(careerTags0[1].text))\n",
      "IndexError: list index out of range\n",
      "Traceback (most recent call last):\n",
      "  File \"C:\\Users\\Ronaldo\\AppData\\Local\\Temp\\ipykernel_17716\\3341127752.py\", line 100, in getCandidateBumeran\n",
      "    candidateData[\"careerField\"] = parseNames(parseLineBreaksAndAccents(careerTags0[1].text))\n",
      "IndexError: list index out of range\n"
     ]
    },
    {
     "name": "stdout",
     "output_type": "stream",
     "text": [
      "1-source-data\\main\\bumeran\\iteration-4\\bandeja-entrada\\Has recibido un CV para el aviso _Desarrollador Java_.html\n",
      "\n"
     ]
    },
    {
     "name": "stderr",
     "output_type": "stream",
     "text": [
      "Traceback (most recent call last):\n",
      "  File \"C:\\Users\\Ronaldo\\AppData\\Local\\Temp\\ipykernel_17716\\3341127752.py\", line 100, in getCandidateBumeran\n",
      "    candidateData[\"careerField\"] = parseNames(parseLineBreaksAndAccents(careerTags0[1].text))\n",
      "IndexError: list index out of range\n"
     ]
    },
    {
     "name": "stdout",
     "output_type": "stream",
     "text": [
      "1-source-data\\main\\bumeran\\iteration-4\\bandeja-entrada\\Has recibido un CV para el aviso _Desarrollador SAP_(14).html\n",
      "\n"
     ]
    },
    {
     "name": "stderr",
     "output_type": "stream",
     "text": [
      "Traceback (most recent call last):\n",
      "  File \"C:\\Users\\Ronaldo\\AppData\\Local\\Temp\\ipykernel_17716\\3341127752.py\", line 100, in getCandidateBumeran\n",
      "    candidateData[\"careerField\"] = parseNames(parseLineBreaksAndAccents(careerTags0[1].text))\n",
      "IndexError: list index out of range\n"
     ]
    },
    {
     "name": "stdout",
     "output_type": "stream",
     "text": [
      "1-source-data\\main\\bumeran\\iteration-4\\bandeja-entrada\\Has recibido un CV para el aviso _Diseñador UX_(47).html\n",
      "\n"
     ]
    },
    {
     "name": "stderr",
     "output_type": "stream",
     "text": [
      "Traceback (most recent call last):\n",
      "  File \"C:\\Users\\Ronaldo\\AppData\\Local\\Temp\\ipykernel_17716\\3341127752.py\", line 100, in getCandidateBumeran\n",
      "    candidateData[\"careerField\"] = parseNames(parseLineBreaksAndAccents(careerTags0[1].text))\n",
      "IndexError: list index out of range\n"
     ]
    },
    {
     "name": "stdout",
     "output_type": "stream",
     "text": [
      "1-source-data\\main\\bumeran\\iteration-4\\bandeja-entrada\\Has recibido un CV para el aviso _Ejecutivo Comercial - Licitaciones_(13).html\n",
      "\n",
      "1-source-data\\main\\bumeran\\iteration-4\\bandeja-entrada\\Has recibido un CV para el aviso _Ejecutivo Comercial - Licitaciones_(27).html\n",
      "\n"
     ]
    },
    {
     "name": "stderr",
     "output_type": "stream",
     "text": [
      "Traceback (most recent call last):\n",
      "  File \"C:\\Users\\Ronaldo\\AppData\\Local\\Temp\\ipykernel_17716\\3341127752.py\", line 100, in getCandidateBumeran\n",
      "    candidateData[\"careerField\"] = parseNames(parseLineBreaksAndAccents(careerTags0[1].text))\n",
      "IndexError: list index out of range\n",
      "Traceback (most recent call last):\n",
      "  File \"C:\\Users\\Ronaldo\\AppData\\Local\\Temp\\ipykernel_17716\\3341127752.py\", line 99, in getCandidateBumeran\n",
      "    candidateData[\"studyCenter\"] = parseNames(parseLineBreaksAndAccents(careerTags0[0].text))\n",
      "IndexError: list index out of range\n"
     ]
    },
    {
     "name": "stdout",
     "output_type": "stream",
     "text": [
      "1-source-data\\main\\bumeran\\iteration-4\\bandeja-entrada\\Has recibido un CV para el aviso _Ejecutivo Comercial - Licitaciones_(45).html\n",
      "\n"
     ]
    },
    {
     "name": "stderr",
     "output_type": "stream",
     "text": [
      "Traceback (most recent call last):\n",
      "  File \"C:\\Users\\Ronaldo\\AppData\\Local\\Temp\\ipykernel_17716\\3341127752.py\", line 99, in getCandidateBumeran\n",
      "    candidateData[\"studyCenter\"] = parseNames(parseLineBreaksAndAccents(careerTags0[0].text))\n",
      "IndexError: list index out of range\n"
     ]
    },
    {
     "name": "stdout",
     "output_type": "stream",
     "text": [
      "1-source-data\\main\\bumeran\\iteration-4\\bandeja-entrada\\Has recibido un CV para el aviso _Ejecutivo Comercial_(124).html\n",
      "\n"
     ]
    },
    {
     "name": "stderr",
     "output_type": "stream",
     "text": [
      "Traceback (most recent call last):\n",
      "  File \"C:\\Users\\Ronaldo\\AppData\\Local\\Temp\\ipykernel_17716\\3341127752.py\", line 100, in getCandidateBumeran\n",
      "    candidateData[\"careerField\"] = parseNames(parseLineBreaksAndAccents(careerTags0[1].text))\n",
      "IndexError: list index out of range\n"
     ]
    },
    {
     "name": "stdout",
     "output_type": "stream",
     "text": [
      "1-source-data\\main\\bumeran\\iteration-4\\bandeja-entrada\\Has recibido un CV para el aviso _Ejecutivo Comercial_(155).html\n",
      "\n"
     ]
    },
    {
     "name": "stderr",
     "output_type": "stream",
     "text": [
      "Traceback (most recent call last):\n",
      "  File \"C:\\Users\\Ronaldo\\AppData\\Local\\Temp\\ipykernel_17716\\3341127752.py\", line 100, in getCandidateBumeran\n",
      "    candidateData[\"careerField\"] = parseNames(parseLineBreaksAndAccents(careerTags0[1].text))\n",
      "IndexError: list index out of range\n"
     ]
    },
    {
     "name": "stdout",
     "output_type": "stream",
     "text": [
      "1-source-data\\main\\bumeran\\iteration-4\\bandeja-entrada\\Has recibido un CV para el aviso _Ejecutivo Comercial_(192).html\n",
      "\n"
     ]
    },
    {
     "name": "stderr",
     "output_type": "stream",
     "text": [
      "Traceback (most recent call last):\n",
      "  File \"C:\\Users\\Ronaldo\\AppData\\Local\\Temp\\ipykernel_17716\\3341127752.py\", line 99, in getCandidateBumeran\n",
      "    candidateData[\"studyCenter\"] = parseNames(parseLineBreaksAndAccents(careerTags0[0].text))\n",
      "IndexError: list index out of range\n"
     ]
    },
    {
     "name": "stdout",
     "output_type": "stream",
     "text": [
      "1-source-data\\main\\bumeran\\iteration-4\\bandeja-entrada\\Has recibido un CV para el aviso _Ejecutivo Comercial_(220).html\n",
      "\n",
      "1-source-data\\main\\bumeran\\iteration-4\\bandeja-entrada\\Has recibido un CV para el aviso _Ejecutivo Comercial_(227).html\n",
      "\n",
      "1-source-data\\main\\bumeran\\iteration-4\\bandeja-entrada\\Has recibido un CV para el aviso _Ejecutivo Comercial_(23).html\n",
      "\n"
     ]
    },
    {
     "name": "stderr",
     "output_type": "stream",
     "text": [
      "Traceback (most recent call last):\n",
      "  File \"C:\\Users\\Ronaldo\\AppData\\Local\\Temp\\ipykernel_17716\\3341127752.py\", line 100, in getCandidateBumeran\n",
      "    candidateData[\"careerField\"] = parseNames(parseLineBreaksAndAccents(careerTags0[1].text))\n",
      "IndexError: list index out of range\n",
      "Traceback (most recent call last):\n",
      "  File \"C:\\Users\\Ronaldo\\AppData\\Local\\Temp\\ipykernel_17716\\3341127752.py\", line 100, in getCandidateBumeran\n",
      "    candidateData[\"careerField\"] = parseNames(parseLineBreaksAndAccents(careerTags0[1].text))\n",
      "IndexError: list index out of range\n",
      "Traceback (most recent call last):\n",
      "  File \"C:\\Users\\Ronaldo\\AppData\\Local\\Temp\\ipykernel_17716\\3341127752.py\", line 100, in getCandidateBumeran\n",
      "    candidateData[\"careerField\"] = parseNames(parseLineBreaksAndAccents(careerTags0[1].text))\n",
      "IndexError: list index out of range\n"
     ]
    },
    {
     "name": "stdout",
     "output_type": "stream",
     "text": [
      "1-source-data\\main\\bumeran\\iteration-4\\bandeja-entrada\\Has recibido un CV para el aviso _Ejecutivo Comercial_(290).html\n",
      "\n"
     ]
    },
    {
     "name": "stderr",
     "output_type": "stream",
     "text": [
      "Traceback (most recent call last):\n",
      "  File \"C:\\Users\\Ronaldo\\AppData\\Local\\Temp\\ipykernel_17716\\3341127752.py\", line 100, in getCandidateBumeran\n",
      "    candidateData[\"careerField\"] = parseNames(parseLineBreaksAndAccents(careerTags0[1].text))\n",
      "IndexError: list index out of range\n"
     ]
    },
    {
     "name": "stdout",
     "output_type": "stream",
     "text": [
      "1-source-data\\main\\bumeran\\iteration-4\\bandeja-entrada\\Has recibido un CV para el aviso _Ejecutivo Comercial_(80).html\n",
      "\n",
      "1-source-data\\main\\bumeran\\iteration-4\\bandeja-entrada\\Has recibido un CV para el aviso _Ejecutivo Comercial_.html\n",
      "\n",
      "1-source-data\\main\\bumeran\\iteration-4\\bandeja-entrada\\Has recibido un CV para el aviso _Ejecutivo(a) Comercial Jr - TI_(13).html\n",
      "\n"
     ]
    },
    {
     "name": "stderr",
     "output_type": "stream",
     "text": [
      "Traceback (most recent call last):\n",
      "  File \"C:\\Users\\Ronaldo\\AppData\\Local\\Temp\\ipykernel_17716\\3341127752.py\", line 99, in getCandidateBumeran\n",
      "    candidateData[\"studyCenter\"] = parseNames(parseLineBreaksAndAccents(careerTags0[0].text))\n",
      "IndexError: list index out of range\n",
      "Traceback (most recent call last):\n",
      "  File \"C:\\Users\\Ronaldo\\AppData\\Local\\Temp\\ipykernel_17716\\3341127752.py\", line 100, in getCandidateBumeran\n",
      "    candidateData[\"careerField\"] = parseNames(parseLineBreaksAndAccents(careerTags0[1].text))\n",
      "IndexError: list index out of range\n",
      "Traceback (most recent call last):\n",
      "  File \"C:\\Users\\Ronaldo\\AppData\\Local\\Temp\\ipykernel_17716\\3341127752.py\", line 100, in getCandidateBumeran\n",
      "    candidateData[\"careerField\"] = parseNames(parseLineBreaksAndAccents(careerTags0[1].text))\n",
      "IndexError: list index out of range\n"
     ]
    },
    {
     "name": "stdout",
     "output_type": "stream",
     "text": [
      "1-source-data\\main\\bumeran\\iteration-4\\bandeja-entrada\\Has recibido un CV para el aviso _Ejecutivo(a) Comercial TI_(122).html\n",
      "\n",
      "1-source-data\\main\\bumeran\\iteration-4\\bandeja-entrada\\Has recibido un CV para el aviso _Ejecutivo(a) Comercial TI_(123).html\n",
      "\n",
      "1-source-data\\main\\bumeran\\iteration-4\\bandeja-entrada\\Has recibido un CV para el aviso _Ejecutivo(a) Comercial TI_(127).html\n",
      "\n"
     ]
    },
    {
     "name": "stderr",
     "output_type": "stream",
     "text": [
      "Traceback (most recent call last):\n",
      "  File \"C:\\Users\\Ronaldo\\AppData\\Local\\Temp\\ipykernel_17716\\3341127752.py\", line 100, in getCandidateBumeran\n",
      "    candidateData[\"careerField\"] = parseNames(parseLineBreaksAndAccents(careerTags0[1].text))\n",
      "IndexError: list index out of range\n",
      "Traceback (most recent call last):\n",
      "  File \"C:\\Users\\Ronaldo\\AppData\\Local\\Temp\\ipykernel_17716\\3341127752.py\", line 100, in getCandidateBumeran\n",
      "    candidateData[\"careerField\"] = parseNames(parseLineBreaksAndAccents(careerTags0[1].text))\n",
      "IndexError: list index out of range\n",
      "Traceback (most recent call last):\n",
      "  File \"C:\\Users\\Ronaldo\\AppData\\Local\\Temp\\ipykernel_17716\\3341127752.py\", line 99, in getCandidateBumeran\n",
      "    candidateData[\"studyCenter\"] = parseNames(parseLineBreaksAndAccents(careerTags0[0].text))\n",
      "IndexError: list index out of range\n"
     ]
    },
    {
     "name": "stdout",
     "output_type": "stream",
     "text": [
      "1-source-data\\main\\bumeran\\iteration-4\\bandeja-entrada\\Has recibido un CV para el aviso _Ejecutivo(a) Comercial TI_(61).html\n",
      "\n"
     ]
    },
    {
     "name": "stderr",
     "output_type": "stream",
     "text": [
      "Traceback (most recent call last):\n",
      "  File \"C:\\Users\\Ronaldo\\AppData\\Local\\Temp\\ipykernel_17716\\3341127752.py\", line 100, in getCandidateBumeran\n",
      "    candidateData[\"careerField\"] = parseNames(parseLineBreaksAndAccents(careerTags0[1].text))\n",
      "IndexError: list index out of range\n"
     ]
    },
    {
     "name": "stdout",
     "output_type": "stream",
     "text": [
      "1-source-data\\main\\bumeran\\iteration-4\\bandeja-entrada\\Has recibido un CV para el aviso _Ejecutivo(a) Comercial TI_(89).html\n",
      "\n",
      "1-source-data\\main\\bumeran\\iteration-4\\bandeja-entrada\\Has recibido un CV para el aviso _Ejecutivo(a) Comercial TI_(96).html\n",
      "\n"
     ]
    },
    {
     "name": "stderr",
     "output_type": "stream",
     "text": [
      "Traceback (most recent call last):\n",
      "  File \"C:\\Users\\Ronaldo\\AppData\\Local\\Temp\\ipykernel_17716\\3341127752.py\", line 100, in getCandidateBumeran\n",
      "    candidateData[\"careerField\"] = parseNames(parseLineBreaksAndAccents(careerTags0[1].text))\n",
      "IndexError: list index out of range\n",
      "Traceback (most recent call last):\n",
      "  File \"C:\\Users\\Ronaldo\\AppData\\Local\\Temp\\ipykernel_17716\\3341127752.py\", line 100, in getCandidateBumeran\n",
      "    candidateData[\"careerField\"] = parseNames(parseLineBreaksAndAccents(careerTags0[1].text))\n",
      "IndexError: list index out of range\n"
     ]
    },
    {
     "name": "stdout",
     "output_type": "stream",
     "text": [
      "1-source-data\\main\\bumeran\\iteration-4\\bandeja-entrada\\Has recibido un CV para el aviso _Ejecutivo_a  Comercial TI_(3).html\n",
      "\n"
     ]
    },
    {
     "name": "stderr",
     "output_type": "stream",
     "text": [
      "Traceback (most recent call last):\n",
      "  File \"C:\\Users\\Ronaldo\\AppData\\Local\\Temp\\ipykernel_17716\\3341127752.py\", line 100, in getCandidateBumeran\n",
      "    candidateData[\"careerField\"] = parseNames(parseLineBreaksAndAccents(careerTags0[1].text))\n",
      "IndexError: list index out of range\n"
     ]
    },
    {
     "name": "stdout",
     "output_type": "stream",
     "text": [
      "1-source-data\\main\\bumeran\\iteration-4\\bandeja-entrada\\Has recibido un CV para el aviso _Especialista .Net - Sharepoint_(18).html\n",
      "\n"
     ]
    },
    {
     "name": "stderr",
     "output_type": "stream",
     "text": [
      "Traceback (most recent call last):\n",
      "  File \"C:\\Users\\Ronaldo\\AppData\\Local\\Temp\\ipykernel_17716\\3341127752.py\", line 100, in getCandidateBumeran\n",
      "    candidateData[\"careerField\"] = parseNames(parseLineBreaksAndAccents(careerTags0[1].text))\n",
      "IndexError: list index out of range\n"
     ]
    },
    {
     "name": "stdout",
     "output_type": "stream",
     "text": [
      "1-source-data\\main\\bumeran\\iteration-4\\bandeja-entrada\\Has recibido un CV para el aviso _Especialista BI_(45).html\n",
      "\n"
     ]
    },
    {
     "name": "stderr",
     "output_type": "stream",
     "text": [
      "Traceback (most recent call last):\n",
      "  File \"C:\\Users\\Ronaldo\\AppData\\Local\\Temp\\ipykernel_17716\\3341127752.py\", line 100, in getCandidateBumeran\n",
      "    candidateData[\"careerField\"] = parseNames(parseLineBreaksAndAccents(careerTags0[1].text))\n",
      "IndexError: list index out of range\n"
     ]
    },
    {
     "name": "stdout",
     "output_type": "stream",
     "text": [
      "1-source-data\\main\\bumeran\\iteration-4\\bandeja-entrada\\Has recibido un CV para el aviso _Especialista en Analítica Jr_(21).html\n",
      "\n"
     ]
    },
    {
     "name": "stderr",
     "output_type": "stream",
     "text": [
      "Traceback (most recent call last):\n",
      "  File \"C:\\Users\\Ronaldo\\AppData\\Local\\Temp\\ipykernel_17716\\3341127752.py\", line 99, in getCandidateBumeran\n",
      "    candidateData[\"studyCenter\"] = parseNames(parseLineBreaksAndAccents(careerTags0[0].text))\n",
      "IndexError: list index out of range\n"
     ]
    },
    {
     "name": "stdout",
     "output_type": "stream",
     "text": [
      "1-source-data\\main\\bumeran\\iteration-4\\bandeja-entrada\\Has recibido un CV para el aviso _Especialista en Analítica – Ingeniero de Datos_(15).html\n",
      "\n"
     ]
    },
    {
     "name": "stderr",
     "output_type": "stream",
     "text": [
      "Traceback (most recent call last):\n",
      "  File \"C:\\Users\\Ronaldo\\AppData\\Local\\Temp\\ipykernel_17716\\3341127752.py\", line 99, in getCandidateBumeran\n",
      "    candidateData[\"studyCenter\"] = parseNames(parseLineBreaksAndAccents(careerTags0[0].text))\n",
      "IndexError: list index out of range\n"
     ]
    },
    {
     "name": "stdout",
     "output_type": "stream",
     "text": [
      "1-source-data\\main\\bumeran\\iteration-4\\bandeja-entrada\\Has recibido un CV para el aviso _Especialista en Analítica – Ingeniero de Datos_(54).html\n",
      "\n"
     ]
    },
    {
     "name": "stderr",
     "output_type": "stream",
     "text": [
      "Traceback (most recent call last):\n",
      "  File \"C:\\Users\\Ronaldo\\AppData\\Local\\Temp\\ipykernel_17716\\3341127752.py\", line 100, in getCandidateBumeran\n",
      "    candidateData[\"careerField\"] = parseNames(parseLineBreaksAndAccents(careerTags0[1].text))\n",
      "IndexError: list index out of range\n"
     ]
    },
    {
     "name": "stdout",
     "output_type": "stream",
     "text": [
      "1-source-data\\main\\bumeran\\iteration-4\\bandeja-entrada\\Has recibido un CV para el aviso _Gestor de Servicios de TI_(156).html\n",
      "\n"
     ]
    },
    {
     "name": "stderr",
     "output_type": "stream",
     "text": [
      "Traceback (most recent call last):\n",
      "  File \"C:\\Users\\Ronaldo\\AppData\\Local\\Temp\\ipykernel_17716\\3341127752.py\", line 100, in getCandidateBumeran\n",
      "    candidateData[\"careerField\"] = parseNames(parseLineBreaksAndAccents(careerTags0[1].text))\n",
      "IndexError: list index out of range\n"
     ]
    },
    {
     "name": "stdout",
     "output_type": "stream",
     "text": [
      "1-source-data\\main\\bumeran\\iteration-4\\bandeja-entrada\\Has recibido un CV para el aviso _Gestor de Servicios de TI_(228).html\n",
      "\n"
     ]
    },
    {
     "name": "stderr",
     "output_type": "stream",
     "text": [
      "Traceback (most recent call last):\n",
      "  File \"C:\\Users\\Ronaldo\\AppData\\Local\\Temp\\ipykernel_17716\\3341127752.py\", line 100, in getCandidateBumeran\n",
      "    candidateData[\"careerField\"] = parseNames(parseLineBreaksAndAccents(careerTags0[1].text))\n",
      "IndexError: list index out of range\n"
     ]
    },
    {
     "name": "stdout",
     "output_type": "stream",
     "text": [
      "1-source-data\\main\\bumeran\\iteration-4\\bandeja-entrada\\Has recibido un CV para el aviso _Gestor de Servicios de TI_(289).html\n",
      "\n"
     ]
    },
    {
     "name": "stderr",
     "output_type": "stream",
     "text": [
      "Traceback (most recent call last):\n",
      "  File \"C:\\Users\\Ronaldo\\AppData\\Local\\Temp\\ipykernel_17716\\3341127752.py\", line 100, in getCandidateBumeran\n",
      "    candidateData[\"careerField\"] = parseNames(parseLineBreaksAndAccents(careerTags0[1].text))\n",
      "IndexError: list index out of range\n"
     ]
    },
    {
     "name": "stdout",
     "output_type": "stream",
     "text": [
      "1-source-data\\main\\bumeran\\iteration-4\\bandeja-entrada\\Has recibido un CV para el aviso _Jefe de Proyecto - Analytics & AI_(86).html\n",
      "\n"
     ]
    },
    {
     "name": "stderr",
     "output_type": "stream",
     "text": [
      "Traceback (most recent call last):\n",
      "  File \"C:\\Users\\Ronaldo\\AppData\\Local\\Temp\\ipykernel_17716\\3341127752.py\", line 100, in getCandidateBumeran\n",
      "    candidateData[\"careerField\"] = parseNames(parseLineBreaksAndAccents(careerTags0[1].text))\n",
      "IndexError: list index out of range\n"
     ]
    },
    {
     "name": "stdout",
     "output_type": "stream",
     "text": [
      "1-source-data\\main\\bumeran\\iteration-4\\bandeja-entrada\\Has recibido un CV para el aviso _Jefe de Proyectos - Analytics & AI_(47).html\n",
      "\n"
     ]
    },
    {
     "name": "stderr",
     "output_type": "stream",
     "text": [
      "Traceback (most recent call last):\n",
      "  File \"C:\\Users\\Ronaldo\\AppData\\Local\\Temp\\ipykernel_17716\\3341127752.py\", line 100, in getCandidateBumeran\n",
      "    candidateData[\"careerField\"] = parseNames(parseLineBreaksAndAccents(careerTags0[1].text))\n",
      "IndexError: list index out of range\n"
     ]
    },
    {
     "name": "stdout",
     "output_type": "stream",
     "text": [
      "1-source-data\\main\\bumeran\\iteration-4\\bandeja-entrada\\Has recibido un CV para el aviso _Jefe de Proyectos - Modern WorkPlace_(21).html\n",
      "\n"
     ]
    },
    {
     "name": "stderr",
     "output_type": "stream",
     "text": [
      "Traceback (most recent call last):\n",
      "  File \"C:\\Users\\Ronaldo\\AppData\\Local\\Temp\\ipykernel_17716\\3341127752.py\", line 100, in getCandidateBumeran\n",
      "    candidateData[\"careerField\"] = parseNames(parseLineBreaksAndAccents(careerTags0[1].text))\n",
      "IndexError: list index out of range\n"
     ]
    },
    {
     "name": "stdout",
     "output_type": "stream",
     "text": [
      "1-source-data\\main\\bumeran\\iteration-4\\bandeja-entrada\\Has recibido un CV para el aviso _Operador de Sistemas_(49).html\n",
      "\n"
     ]
    },
    {
     "name": "stderr",
     "output_type": "stream",
     "text": [
      "Traceback (most recent call last):\n",
      "  File \"C:\\Users\\Ronaldo\\AppData\\Local\\Temp\\ipykernel_17716\\3341127752.py\", line 100, in getCandidateBumeran\n",
      "    candidateData[\"careerField\"] = parseNames(parseLineBreaksAndAccents(careerTags0[1].text))\n",
      "IndexError: list index out of range\n"
     ]
    },
    {
     "name": "stdout",
     "output_type": "stream",
     "text": [
      "1-source-data\\main\\bumeran\\iteration-4\\bandeja-entrada\\Has recibido un CV para el aviso _Operador de Sistemas_(78).html\n",
      "\n"
     ]
    },
    {
     "name": "stderr",
     "output_type": "stream",
     "text": [
      "Traceback (most recent call last):\n",
      "  File \"C:\\Users\\Ronaldo\\AppData\\Local\\Temp\\ipykernel_17716\\3341127752.py\", line 100, in getCandidateBumeran\n",
      "    candidateData[\"careerField\"] = parseNames(parseLineBreaksAndAccents(careerTags0[1].text))\n",
      "IndexError: list index out of range\n"
     ]
    },
    {
     "name": "stdout",
     "output_type": "stream",
     "text": [
      "1-source-data\\main\\bumeran\\iteration-4\\bandeja-entrada\\Has recibido un CV para el aviso _Practicante IoT_IA_(6).html\n",
      "\n"
     ]
    },
    {
     "name": "stderr",
     "output_type": "stream",
     "text": [
      "Traceback (most recent call last):\n",
      "  File \"C:\\Users\\Ronaldo\\AppData\\Local\\Temp\\ipykernel_17716\\3341127752.py\", line 100, in getCandidateBumeran\n",
      "    candidateData[\"careerField\"] = parseNames(parseLineBreaksAndAccents(careerTags0[1].text))\n",
      "IndexError: list index out of range\n"
     ]
    },
    {
     "name": "stdout",
     "output_type": "stream",
     "text": [
      "1-source-data\\main\\bumeran\\iteration-4\\bandeja-entrada\\Has recibido un CV para el aviso _Pre-Venta – Cloud Computing_(12).html\n",
      "\n"
     ]
    },
    {
     "name": "stderr",
     "output_type": "stream",
     "text": [
      "Traceback (most recent call last):\n",
      "  File \"C:\\Users\\Ronaldo\\AppData\\Local\\Temp\\ipykernel_17716\\3341127752.py\", line 100, in getCandidateBumeran\n",
      "    candidateData[\"careerField\"] = parseNames(parseLineBreaksAndAccents(careerTags0[1].text))\n",
      "IndexError: list index out of range\n"
     ]
    },
    {
     "name": "stdout",
     "output_type": "stream",
     "text": [
      "1-source-data\\main\\bumeran\\iteration-4\\bandeja-entrada\\Has recibido un CV para el aviso _Programador Oracle_(10).html\n",
      "\n"
     ]
    },
    {
     "name": "stderr",
     "output_type": "stream",
     "text": [
      "Traceback (most recent call last):\n",
      "  File \"C:\\Users\\Ronaldo\\AppData\\Local\\Temp\\ipykernel_17716\\3341127752.py\", line 100, in getCandidateBumeran\n",
      "    candidateData[\"careerField\"] = parseNames(parseLineBreaksAndAccents(careerTags0[1].text))\n",
      "IndexError: list index out of range\n"
     ]
    },
    {
     "name": "stdout",
     "output_type": "stream",
     "text": [
      "1-source-data\\main\\bumeran\\iteration-4\\bandeja-entrada-asistente-social\\Has recibido un CV para el aviso _Asistente Social_(107).html\n",
      "\n",
      "1-source-data\\main\\bumeran\\iteration-4\\bandeja-entrada-asistente-social\\Has recibido un CV para el aviso _Asistente Social_(123).html\n",
      "\n"
     ]
    },
    {
     "name": "stderr",
     "output_type": "stream",
     "text": [
      "Traceback (most recent call last):\n",
      "  File \"C:\\Users\\Ronaldo\\AppData\\Local\\Temp\\ipykernel_17716\\3341127752.py\", line 99, in getCandidateBumeran\n",
      "    candidateData[\"studyCenter\"] = parseNames(parseLineBreaksAndAccents(careerTags0[0].text))\n",
      "IndexError: list index out of range\n",
      "Traceback (most recent call last):\n",
      "  File \"C:\\Users\\Ronaldo\\AppData\\Local\\Temp\\ipykernel_17716\\3341127752.py\", line 100, in getCandidateBumeran\n",
      "    candidateData[\"careerField\"] = parseNames(parseLineBreaksAndAccents(careerTags0[1].text))\n",
      "IndexError: list index out of range\n"
     ]
    },
    {
     "name": "stdout",
     "output_type": "stream",
     "text": [
      "1-source-data\\main\\bumeran\\iteration-4\\bandeja-entrada-asistente-social\\Has recibido un CV para el aviso _Asistente Social_(182).html\n",
      "\n"
     ]
    },
    {
     "name": "stderr",
     "output_type": "stream",
     "text": [
      "Traceback (most recent call last):\n",
      "  File \"C:\\Users\\Ronaldo\\AppData\\Local\\Temp\\ipykernel_17716\\3341127752.py\", line 99, in getCandidateBumeran\n",
      "    candidateData[\"studyCenter\"] = parseNames(parseLineBreaksAndAccents(careerTags0[0].text))\n",
      "IndexError: list index out of range\n"
     ]
    },
    {
     "name": "stdout",
     "output_type": "stream",
     "text": [
      "1-source-data\\main\\bumeran\\iteration-4\\bandeja-entrada-asistente-social\\Has recibido un CV para el aviso _Asistente Social_(258).html\n",
      "\n"
     ]
    },
    {
     "name": "stderr",
     "output_type": "stream",
     "text": [
      "Traceback (most recent call last):\n",
      "  File \"C:\\Users\\Ronaldo\\AppData\\Local\\Temp\\ipykernel_17716\\3341127752.py\", line 100, in getCandidateBumeran\n",
      "    candidateData[\"careerField\"] = parseNames(parseLineBreaksAndAccents(careerTags0[1].text))\n",
      "IndexError: list index out of range\n"
     ]
    },
    {
     "name": "stdout",
     "output_type": "stream",
     "text": [
      "1-source-data\\main\\bumeran\\iteration-4\\bandeja-entrada-asistente-social\\Has recibido un CV para el aviso _Asistente Social_(4).html\n",
      "\n"
     ]
    },
    {
     "name": "stderr",
     "output_type": "stream",
     "text": [
      "Traceback (most recent call last):\n",
      "  File \"C:\\Users\\Ronaldo\\AppData\\Local\\Temp\\ipykernel_17716\\3341127752.py\", line 100, in getCandidateBumeran\n",
      "    candidateData[\"careerField\"] = parseNames(parseLineBreaksAndAccents(careerTags0[1].text))\n",
      "IndexError: list index out of range\n"
     ]
    },
    {
     "name": "stdout",
     "output_type": "stream",
     "text": [
      "1-source-data\\main\\bumeran\\iteration-4\\bandeja-entrada-community-manager\\Has recibido un CV para el aviso _Community Manger_(131).html\n",
      "\n"
     ]
    },
    {
     "name": "stderr",
     "output_type": "stream",
     "text": [
      "Traceback (most recent call last):\n",
      "  File \"C:\\Users\\Ronaldo\\AppData\\Local\\Temp\\ipykernel_17716\\3341127752.py\", line 100, in getCandidateBumeran\n",
      "    candidateData[\"careerField\"] = parseNames(parseLineBreaksAndAccents(careerTags0[1].text))\n",
      "IndexError: list index out of range\n"
     ]
    },
    {
     "name": "stdout",
     "output_type": "stream",
     "text": [
      "1-source-data\\main\\bumeran\\iteration-4\\bandeja-entrada-community-manager\\Has recibido un CV para el aviso _Community Manger_(33).html\n",
      "\n"
     ]
    },
    {
     "name": "stderr",
     "output_type": "stream",
     "text": [
      "Traceback (most recent call last):\n",
      "  File \"C:\\Users\\Ronaldo\\AppData\\Local\\Temp\\ipykernel_17716\\3341127752.py\", line 99, in getCandidateBumeran\n",
      "    candidateData[\"studyCenter\"] = parseNames(parseLineBreaksAndAccents(careerTags0[0].text))\n",
      "IndexError: list index out of range\n"
     ]
    },
    {
     "name": "stdout",
     "output_type": "stream",
     "text": [
      "1-source-data\\main\\bumeran\\iteration-4\\bandeja-entrada-community-manager\\Has recibido un CV para el aviso _Community Manger_(97).html\n",
      "\n"
     ]
    },
    {
     "name": "stderr",
     "output_type": "stream",
     "text": [
      "Traceback (most recent call last):\n",
      "  File \"C:\\Users\\Ronaldo\\AppData\\Local\\Temp\\ipykernel_17716\\3341127752.py\", line 100, in getCandidateBumeran\n",
      "    candidateData[\"careerField\"] = parseNames(parseLineBreaksAndAccents(careerTags0[1].text))\n",
      "IndexError: list index out of range\n"
     ]
    },
    {
     "name": "stdout",
     "output_type": "stream",
     "text": [
      "1-source-data\\main\\bumeran\\iteration-4\\bandeja-entrada-soporte-tecnico\\Has recibido un CV para el aviso _Administrador de Soporte Técnico_(8).html\n",
      "\n"
     ]
    },
    {
     "name": "stderr",
     "output_type": "stream",
     "text": [
      "Traceback (most recent call last):\n",
      "  File \"C:\\Users\\Ronaldo\\AppData\\Local\\Temp\\ipykernel_17716\\3341127752.py\", line 100, in getCandidateBumeran\n",
      "    candidateData[\"careerField\"] = parseNames(parseLineBreaksAndAccents(careerTags0[1].text))\n",
      "IndexError: list index out of range\n"
     ]
    },
    {
     "name": "stdout",
     "output_type": "stream",
     "text": [
      "1-source-data\\main\\bumeran\\iteration-4\\ejecutivo-comercial\\Has recibido un CV para el aviso _Ejecutivo Comercial Jr. Licitaciones_(84).html\n",
      "\n"
     ]
    },
    {
     "name": "stderr",
     "output_type": "stream",
     "text": [
      "Traceback (most recent call last):\n",
      "  File \"C:\\Users\\Ronaldo\\AppData\\Local\\Temp\\ipykernel_17716\\3341127752.py\", line 100, in getCandidateBumeran\n",
      "    candidateData[\"careerField\"] = parseNames(parseLineBreaksAndAccents(careerTags0[1].text))\n",
      "IndexError: list index out of range\n"
     ]
    },
    {
     "name": "stdout",
     "output_type": "stream",
     "text": [
      "1-source-data\\main\\bumeran\\iteration-4\\ejecutivo-comercial\\Has recibido un CV para el aviso _Ejecutivo Comercial Jr._(26).html\n",
      "\n"
     ]
    },
    {
     "name": "stderr",
     "output_type": "stream",
     "text": [
      "Traceback (most recent call last):\n",
      "  File \"C:\\Users\\Ronaldo\\AppData\\Local\\Temp\\ipykernel_17716\\3341127752.py\", line 100, in getCandidateBumeran\n",
      "    candidateData[\"careerField\"] = parseNames(parseLineBreaksAndAccents(careerTags0[1].text))\n",
      "IndexError: list index out of range\n"
     ]
    },
    {
     "name": "stdout",
     "output_type": "stream",
     "text": [
      "1-source-data\\main\\bumeran\\iteration-4\\ejecutivo-comercial\\Has recibido un CV para el aviso _Ejecutivo Comercial Jr._(78).html\n",
      "\n"
     ]
    },
    {
     "name": "stderr",
     "output_type": "stream",
     "text": [
      "Traceback (most recent call last):\n",
      "  File \"C:\\Users\\Ronaldo\\AppData\\Local\\Temp\\ipykernel_17716\\3341127752.py\", line 100, in getCandidateBumeran\n",
      "    candidateData[\"careerField\"] = parseNames(parseLineBreaksAndAccents(careerTags0[1].text))\n",
      "IndexError: list index out of range\n"
     ]
    },
    {
     "name": "stdout",
     "output_type": "stream",
     "text": [
      "1-source-data\\main\\bumeran\\iteration-4\\ejecutivo-comercial\\Has recibido un CV para el aviso _Ejecutivo Comercial_(1).html\n",
      "\n"
     ]
    },
    {
     "name": "stderr",
     "output_type": "stream",
     "text": [
      "Traceback (most recent call last):\n",
      "  File \"C:\\Users\\Ronaldo\\AppData\\Local\\Temp\\ipykernel_17716\\3341127752.py\", line 100, in getCandidateBumeran\n",
      "    candidateData[\"careerField\"] = parseNames(parseLineBreaksAndAccents(careerTags0[1].text))\n",
      "IndexError: list index out of range\n"
     ]
    },
    {
     "name": "stdout",
     "output_type": "stream",
     "text": [
      "1-source-data\\main\\bumeran\\iteration-4\\ejecutivo-comercial\\Has recibido un CV para el aviso _Ejecutivo Comercial_(35).html\n",
      "\n"
     ]
    },
    {
     "name": "stderr",
     "output_type": "stream",
     "text": [
      "Traceback (most recent call last):\n",
      "  File \"C:\\Users\\Ronaldo\\AppData\\Local\\Temp\\ipykernel_17716\\3341127752.py\", line 100, in getCandidateBumeran\n",
      "    candidateData[\"careerField\"] = parseNames(parseLineBreaksAndAccents(careerTags0[1].text))\n",
      "IndexError: list index out of range\n"
     ]
    },
    {
     "name": "stdout",
     "output_type": "stream",
     "text": [
      "1-source-data\\main\\bumeran\\iteration-4\\ejecutivo-comercial\\Has recibido un CV para el aviso _Ejecutivo Comercial_(47).html\n",
      "\n",
      "1-source-data\\main\\bumeran\\iteration-4\\ejecutivo-comercial\\Has recibido un CV para el aviso _Ejecutivo Comercial_(63).html\n",
      "\n",
      "1-source-data\\main\\bumeran\\iteration-4\\ejecutivo-comercial\\Has recibido un CV para el aviso _Ejecutivo Comercial_(64).html\n",
      "\n"
     ]
    },
    {
     "name": "stderr",
     "output_type": "stream",
     "text": [
      "Traceback (most recent call last):\n",
      "  File \"C:\\Users\\Ronaldo\\AppData\\Local\\Temp\\ipykernel_17716\\3341127752.py\", line 100, in getCandidateBumeran\n",
      "    candidateData[\"careerField\"] = parseNames(parseLineBreaksAndAccents(careerTags0[1].text))\n",
      "IndexError: list index out of range\n",
      "Traceback (most recent call last):\n",
      "  File \"C:\\Users\\Ronaldo\\AppData\\Local\\Temp\\ipykernel_17716\\3341127752.py\", line 100, in getCandidateBumeran\n",
      "    candidateData[\"careerField\"] = parseNames(parseLineBreaksAndAccents(careerTags0[1].text))\n",
      "IndexError: list index out of range\n",
      "Traceback (most recent call last):\n",
      "  File \"C:\\Users\\Ronaldo\\AppData\\Local\\Temp\\ipykernel_17716\\3341127752.py\", line 99, in getCandidateBumeran\n",
      "    candidateData[\"studyCenter\"] = parseNames(parseLineBreaksAndAccents(careerTags0[0].text))\n",
      "IndexError: list index out of range\n"
     ]
    },
    {
     "name": "stdout",
     "output_type": "stream",
     "text": [
      "1-source-data\\main\\bumeran\\iteration-4\\historico\\Has recibido un CV para el aviso _Practicante de Recursos Humanos_(9).html\n",
      "\n"
     ]
    },
    {
     "name": "stderr",
     "output_type": "stream",
     "text": [
      "Traceback (most recent call last):\n",
      "  File \"C:\\Users\\Ronaldo\\AppData\\Local\\Temp\\ipykernel_17716\\3341127752.py\", line 100, in getCandidateBumeran\n",
      "    candidateData[\"careerField\"] = parseNames(parseLineBreaksAndAccents(careerTags0[1].text))\n",
      "IndexError: list index out of range\n"
     ]
    },
    {
     "name": "stdout",
     "output_type": "stream",
     "text": [
      "1-source-data\\main\\bumeran\\iteration-4\\jefe-proyecto\\Has recibido un CV para el aviso _Jefe de Proyecto para el área de Analytics & AI_(93).html\n",
      "\n"
     ]
    },
    {
     "name": "stderr",
     "output_type": "stream",
     "text": [
      "Traceback (most recent call last):\n",
      "  File \"C:\\Users\\Ronaldo\\AppData\\Local\\Temp\\ipykernel_17716\\3341127752.py\", line 100, in getCandidateBumeran\n",
      "    candidateData[\"careerField\"] = parseNames(parseLineBreaksAndAccents(careerTags0[1].text))\n",
      "IndexError: list index out of range\n"
     ]
    },
    {
     "name": "stdout",
     "output_type": "stream",
     "text": [
      "1-source-data\\main\\bumeran\\iteration-4\\jefe-proyecto\\Has recibido un CV para el aviso _Jefe de Proyecto TI_(22).html\n",
      "\n",
      "1-source-data\\main\\bumeran\\iteration-4\\jefe-proyecto\\Has recibido un CV para el aviso _Jefe de Proyecto TI_(24).html\n",
      "\n"
     ]
    },
    {
     "name": "stderr",
     "output_type": "stream",
     "text": [
      "Traceback (most recent call last):\n",
      "  File \"C:\\Users\\Ronaldo\\AppData\\Local\\Temp\\ipykernel_17716\\3341127752.py\", line 100, in getCandidateBumeran\n",
      "    candidateData[\"careerField\"] = parseNames(parseLineBreaksAndAccents(careerTags0[1].text))\n",
      "IndexError: list index out of range\n",
      "Traceback (most recent call last):\n",
      "  File \"C:\\Users\\Ronaldo\\AppData\\Local\\Temp\\ipykernel_17716\\3341127752.py\", line 99, in getCandidateBumeran\n",
      "    candidateData[\"studyCenter\"] = parseNames(parseLineBreaksAndAccents(careerTags0[0].text))\n",
      "IndexError: list index out of range\n"
     ]
    },
    {
     "name": "stdout",
     "output_type": "stream",
     "text": [
      "1-source-data\\main\\bumeran\\iteration-4\\programador-net\\Has recibido un CV para el aviso _Analista Programador .Net_(25).html\n",
      "\n"
     ]
    },
    {
     "name": "stderr",
     "output_type": "stream",
     "text": [
      "Traceback (most recent call last):\n",
      "  File \"C:\\Users\\Ronaldo\\AppData\\Local\\Temp\\ipykernel_17716\\3341127752.py\", line 100, in getCandidateBumeran\n",
      "    candidateData[\"careerField\"] = parseNames(parseLineBreaksAndAccents(careerTags0[1].text))\n",
      "IndexError: list index out of range\n"
     ]
    },
    {
     "name": "stdout",
     "output_type": "stream",
     "text": [
      "1-source-data\\main\\bumeran\\iteration-4\\programador-net\\Has recibido un CV para el aviso _Programador .NET_(175).html\n",
      "\n"
     ]
    },
    {
     "name": "stderr",
     "output_type": "stream",
     "text": [
      "Traceback (most recent call last):\n",
      "  File \"C:\\Users\\Ronaldo\\AppData\\Local\\Temp\\ipykernel_17716\\3341127752.py\", line 100, in getCandidateBumeran\n",
      "    candidateData[\"careerField\"] = parseNames(parseLineBreaksAndAccents(careerTags0[1].text))\n",
      "IndexError: list index out of range\n"
     ]
    },
    {
     "name": "stdout",
     "output_type": "stream",
     "text": [
      "1-source-data\\main\\bumeran\\iteration-4\\programador-net\\Has recibido un CV para el aviso _Programador .NET_(198).html\n",
      "\n",
      "1-source-data\\main\\bumeran\\iteration-4\\programador-net\\Has recibido un CV para el aviso _Programador .NET_(205).html\n",
      "\n"
     ]
    },
    {
     "name": "stderr",
     "output_type": "stream",
     "text": [
      "Traceback (most recent call last):\n",
      "  File \"C:\\Users\\Ronaldo\\AppData\\Local\\Temp\\ipykernel_17716\\3341127752.py\", line 100, in getCandidateBumeran\n",
      "    candidateData[\"careerField\"] = parseNames(parseLineBreaksAndAccents(careerTags0[1].text))\n",
      "IndexError: list index out of range\n",
      "Traceback (most recent call last):\n",
      "  File \"C:\\Users\\Ronaldo\\AppData\\Local\\Temp\\ipykernel_17716\\3341127752.py\", line 100, in getCandidateBumeran\n",
      "    candidateData[\"careerField\"] = parseNames(parseLineBreaksAndAccents(careerTags0[1].text))\n",
      "IndexError: list index out of range\n"
     ]
    },
    {
     "name": "stdout",
     "output_type": "stream",
     "text": [
      "1-source-data\\main\\bumeran\\iteration-4\\programador-net\\Has recibido un CV para el aviso _Programador .Net_(240).html\n",
      "\n",
      "1-source-data\\main\\bumeran\\iteration-4\\programador-net\\Has recibido un CV para el aviso _Programador .Net_(31).html\n",
      "\n"
     ]
    },
    {
     "name": "stderr",
     "output_type": "stream",
     "text": [
      "Traceback (most recent call last):\n",
      "  File \"C:\\Users\\Ronaldo\\AppData\\Local\\Temp\\ipykernel_17716\\3341127752.py\", line 100, in getCandidateBumeran\n",
      "    candidateData[\"careerField\"] = parseNames(parseLineBreaksAndAccents(careerTags0[1].text))\n",
      "IndexError: list index out of range\n",
      "Traceback (most recent call last):\n",
      "  File \"C:\\Users\\Ronaldo\\AppData\\Local\\Temp\\ipykernel_17716\\3341127752.py\", line 100, in getCandidateBumeran\n",
      "    candidateData[\"careerField\"] = parseNames(parseLineBreaksAndAccents(careerTags0[1].text))\n",
      "IndexError: list index out of range\n"
     ]
    },
    {
     "name": "stdout",
     "output_type": "stream",
     "text": [
      "1-source-data\\main\\bumeran\\iteration-4\\programador-net\\Has recibido un CV para el aviso _Programador .Net_(41).html\n",
      "\n"
     ]
    },
    {
     "name": "stderr",
     "output_type": "stream",
     "text": [
      "Traceback (most recent call last):\n",
      "  File \"C:\\Users\\Ronaldo\\AppData\\Local\\Temp\\ipykernel_17716\\3341127752.py\", line 100, in getCandidateBumeran\n",
      "    candidateData[\"careerField\"] = parseNames(parseLineBreaksAndAccents(careerTags0[1].text))\n",
      "IndexError: list index out of range\n"
     ]
    },
    {
     "name": "stdout",
     "output_type": "stream",
     "text": [
      "1-source-data\\main\\bumeran\\iteration-4\\recursos-humanos\\Has recibido un CV para el aviso _Practicante de Recursos Humanos_(111).html\n",
      "\n"
     ]
    },
    {
     "name": "stderr",
     "output_type": "stream",
     "text": [
      "Traceback (most recent call last):\n",
      "  File \"C:\\Users\\Ronaldo\\AppData\\Local\\Temp\\ipykernel_17716\\3341127752.py\", line 100, in getCandidateBumeran\n",
      "    candidateData[\"careerField\"] = parseNames(parseLineBreaksAndAccents(careerTags0[1].text))\n",
      "IndexError: list index out of range\n"
     ]
    },
    {
     "name": "stdout",
     "output_type": "stream",
     "text": [
      "1-source-data\\main\\bumeran\\iteration-4\\recursos-humanos\\Has recibido un CV para el aviso _Practicante de Recursos Humanos_(23).html\n",
      "\n"
     ]
    },
    {
     "name": "stderr",
     "output_type": "stream",
     "text": [
      "Traceback (most recent call last):\n",
      "  File \"C:\\Users\\Ronaldo\\AppData\\Local\\Temp\\ipykernel_17716\\3341127752.py\", line 100, in getCandidateBumeran\n",
      "    candidateData[\"careerField\"] = parseNames(parseLineBreaksAndAccents(careerTags0[1].text))\n",
      "IndexError: list index out of range\n"
     ]
    },
    {
     "name": "stdout",
     "output_type": "stream",
     "text": [
      "1-source-data\\main\\bumeran\\iteration-4\\recursos-humanos\\Has recibido un CV para el aviso _Practicante de Recursos Humanos_(387).html\n",
      "\n",
      "1-source-data\\main\\bumeran\\iteration-4\\recursos-humanos\\Has recibido un CV para el aviso _Practicante de Recursos Humanos_(397).html\n",
      "\n",
      "1-source-data\\main\\bumeran\\iteration-4\\recursos-humanos\\Has recibido un CV para el aviso _Practicante de Recursos Humanos_(41).html\n",
      "\n"
     ]
    },
    {
     "name": "stderr",
     "output_type": "stream",
     "text": [
      "Traceback (most recent call last):\n",
      "  File \"C:\\Users\\Ronaldo\\AppData\\Local\\Temp\\ipykernel_17716\\3341127752.py\", line 100, in getCandidateBumeran\n",
      "    candidateData[\"careerField\"] = parseNames(parseLineBreaksAndAccents(careerTags0[1].text))\n",
      "IndexError: list index out of range\n",
      "Traceback (most recent call last):\n",
      "  File \"C:\\Users\\Ronaldo\\AppData\\Local\\Temp\\ipykernel_17716\\3341127752.py\", line 100, in getCandidateBumeran\n",
      "    candidateData[\"careerField\"] = parseNames(parseLineBreaksAndAccents(careerTags0[1].text))\n",
      "IndexError: list index out of range\n",
      "Traceback (most recent call last):\n",
      "  File \"C:\\Users\\Ronaldo\\AppData\\Local\\Temp\\ipykernel_17716\\3341127752.py\", line 100, in getCandidateBumeran\n",
      "    candidateData[\"careerField\"] = parseNames(parseLineBreaksAndAccents(careerTags0[1].text))\n",
      "IndexError: list index out of range\n"
     ]
    },
    {
     "name": "stdout",
     "output_type": "stream",
     "text": [
      "1-source-data\\main\\bumeran\\iteration-4\\recursos-humanos\\Has recibido un CV para el aviso _Practicante de Recursos Humanos_(479).html\n",
      "\n",
      "1-source-data\\main\\bumeran\\iteration-4\\recursos-humanos\\Has recibido un CV para el aviso _Practicante de Recursos Humanos_(497).html\n",
      "\n"
     ]
    },
    {
     "name": "stderr",
     "output_type": "stream",
     "text": [
      "Traceback (most recent call last):\n",
      "  File \"C:\\Users\\Ronaldo\\AppData\\Local\\Temp\\ipykernel_17716\\3341127752.py\", line 100, in getCandidateBumeran\n",
      "    candidateData[\"careerField\"] = parseNames(parseLineBreaksAndAccents(careerTags0[1].text))\n",
      "IndexError: list index out of range\n",
      "Traceback (most recent call last):\n",
      "  File \"C:\\Users\\Ronaldo\\AppData\\Local\\Temp\\ipykernel_17716\\3341127752.py\", line 100, in getCandidateBumeran\n",
      "    candidateData[\"careerField\"] = parseNames(parseLineBreaksAndAccents(careerTags0[1].text))\n",
      "IndexError: list index out of range\n"
     ]
    },
    {
     "name": "stdout",
     "output_type": "stream",
     "text": [
      "1-source-data\\main\\bumeran\\iteration-4\\recursos-humanos\\Has recibido un CV para el aviso _Practicante de Recursos Humanos_(542).html\n",
      "\n"
     ]
    },
    {
     "name": "stderr",
     "output_type": "stream",
     "text": [
      "Traceback (most recent call last):\n",
      "  File \"C:\\Users\\Ronaldo\\AppData\\Local\\Temp\\ipykernel_17716\\3341127752.py\", line 100, in getCandidateBumeran\n",
      "    candidateData[\"careerField\"] = parseNames(parseLineBreaksAndAccents(careerTags0[1].text))\n",
      "IndexError: list index out of range\n"
     ]
    },
    {
     "name": "stdout",
     "output_type": "stream",
     "text": [
      "1-source-data\\main\\bumeran\\iteration-4\\recursos-humanos\\Has recibido un CV para el aviso _Practicante de Recursos Humanos_(605).html\n",
      "\n",
      "1-source-data\\main\\bumeran\\iteration-4\\recursos-humanos\\Has recibido un CV para el aviso _Practicante de Recursos Humanos_(617).html\n",
      "\n"
     ]
    },
    {
     "name": "stderr",
     "output_type": "stream",
     "text": [
      "Traceback (most recent call last):\n",
      "  File \"C:\\Users\\Ronaldo\\AppData\\Local\\Temp\\ipykernel_17716\\3341127752.py\", line 100, in getCandidateBumeran\n",
      "    candidateData[\"careerField\"] = parseNames(parseLineBreaksAndAccents(careerTags0[1].text))\n",
      "IndexError: list index out of range\n",
      "Traceback (most recent call last):\n",
      "  File \"C:\\Users\\Ronaldo\\AppData\\Local\\Temp\\ipykernel_17716\\3341127752.py\", line 100, in getCandidateBumeran\n",
      "    candidateData[\"careerField\"] = parseNames(parseLineBreaksAndAccents(careerTags0[1].text))\n",
      "IndexError: list index out of range\n"
     ]
    },
    {
     "name": "stdout",
     "output_type": "stream",
     "text": [
      "1-source-data\\main\\bumeran\\iteration-4\\recursos-humanos\\Has recibido un CV para el aviso _Practicante de Recursos Humanos_(69).html\n",
      "\n",
      "1-source-data\\main\\bumeran\\iteration-4\\recursos-humanos\\Has recibido un CV para el aviso _Practicante de Recursos Humanos_(705).html\n",
      "\n"
     ]
    },
    {
     "name": "stderr",
     "output_type": "stream",
     "text": [
      "Traceback (most recent call last):\n",
      "  File \"C:\\Users\\Ronaldo\\AppData\\Local\\Temp\\ipykernel_17716\\3341127752.py\", line 100, in getCandidateBumeran\n",
      "    candidateData[\"careerField\"] = parseNames(parseLineBreaksAndAccents(careerTags0[1].text))\n",
      "IndexError: list index out of range\n",
      "Traceback (most recent call last):\n",
      "  File \"C:\\Users\\Ronaldo\\AppData\\Local\\Temp\\ipykernel_17716\\3341127752.py\", line 100, in getCandidateBumeran\n",
      "    candidateData[\"careerField\"] = parseNames(parseLineBreaksAndAccents(careerTags0[1].text))\n",
      "IndexError: list index out of range\n"
     ]
    },
    {
     "name": "stdout",
     "output_type": "stream",
     "text": [
      "1-source-data\\main\\bumeran\\iteration-4\\recursos-humanos\\Has recibido un CV para el aviso _Practicante de Recursos Humanos_(73).html\n",
      "\n"
     ]
    },
    {
     "name": "stderr",
     "output_type": "stream",
     "text": [
      "Traceback (most recent call last):\n",
      "  File \"C:\\Users\\Ronaldo\\AppData\\Local\\Temp\\ipykernel_17716\\3341127752.py\", line 100, in getCandidateBumeran\n",
      "    candidateData[\"careerField\"] = parseNames(parseLineBreaksAndAccents(careerTags0[1].text))\n",
      "IndexError: list index out of range\n"
     ]
    },
    {
     "name": "stdout",
     "output_type": "stream",
     "text": [
      "1-source-data\\main\\bumeran\\iteration-4\\recursos-humanos\\Has recibido un CV para el aviso _Practicante de Recursos Humanos_(847).html\n",
      "\n"
     ]
    },
    {
     "name": "stderr",
     "output_type": "stream",
     "text": [
      "Traceback (most recent call last):\n",
      "  File \"C:\\Users\\Ronaldo\\AppData\\Local\\Temp\\ipykernel_17716\\3341127752.py\", line 100, in getCandidateBumeran\n",
      "    candidateData[\"careerField\"] = parseNames(parseLineBreaksAndAccents(careerTags0[1].text))\n",
      "IndexError: list index out of range\n"
     ]
    },
    {
     "name": "stdout",
     "output_type": "stream",
     "text": [
      "1-source-data\\main\\bumeran\\iteration-4\\recursos-humanos\\Has recibido un CV para el aviso _Practicante de Recursos Humanos_(901).html\n",
      "\n",
      "1-source-data\\main\\bumeran\\iteration-4\\recursos-humanos\\Has recibido un CV para el aviso _Practicante de Recursos Humanos_(926).html\n",
      "\n"
     ]
    },
    {
     "name": "stderr",
     "output_type": "stream",
     "text": [
      "Traceback (most recent call last):\n",
      "  File \"C:\\Users\\Ronaldo\\AppData\\Local\\Temp\\ipykernel_17716\\3341127752.py\", line 100, in getCandidateBumeran\n",
      "    candidateData[\"careerField\"] = parseNames(parseLineBreaksAndAccents(careerTags0[1].text))\n",
      "IndexError: list index out of range\n",
      "Traceback (most recent call last):\n",
      "  File \"C:\\Users\\Ronaldo\\AppData\\Local\\Temp\\ipykernel_17716\\3341127752.py\", line 100, in getCandidateBumeran\n",
      "    candidateData[\"careerField\"] = parseNames(parseLineBreaksAndAccents(careerTags0[1].text))\n",
      "IndexError: list index out of range\n"
     ]
    },
    {
     "name": "stdout",
     "output_type": "stream",
     "text": [
      "1-source-data\\main\\bumeran\\iteration-4\\recursos-humanos\\Has recibido un CV para el aviso _Practicante de Recursos Humanos_(944).html\n",
      "\n",
      "1-source-data\\main\\bumeran\\iteration-4\\recursos-humanos\\Has recibido un CV para el aviso _Practicante de Recursos Humanos_(946).html\n",
      "\n"
     ]
    },
    {
     "name": "stderr",
     "output_type": "stream",
     "text": [
      "Traceback (most recent call last):\n",
      "  File \"C:\\Users\\Ronaldo\\AppData\\Local\\Temp\\ipykernel_17716\\3341127752.py\", line 100, in getCandidateBumeran\n",
      "    candidateData[\"careerField\"] = parseNames(parseLineBreaksAndAccents(careerTags0[1].text))\n",
      "IndexError: list index out of range\n",
      "Traceback (most recent call last):\n",
      "  File \"C:\\Users\\Ronaldo\\AppData\\Local\\Temp\\ipykernel_17716\\3341127752.py\", line 100, in getCandidateBumeran\n",
      "    candidateData[\"careerField\"] = parseNames(parseLineBreaksAndAccents(careerTags0[1].text))\n",
      "IndexError: list index out of range\n"
     ]
    },
    {
     "name": "stdout",
     "output_type": "stream",
     "text": [
      "Se terminó de procesar Bumeran\n",
      "Se terminó de procesar Linkedin\n",
      "Se terminó de unir la data principal\n",
      "postulationDate    9558\n",
      "studyCenter        9558\n",
      "careerField        9558\n",
      "careerStatus       9558\n",
      "careerDegree       9558\n",
      "studiesNumber      9558\n",
      "dtype: int64\n",
      "Universidad Peruana De Ciencias Aplicadas    551\n",
      "Universidad Tecnologica Del Peru             321\n",
      "Pontificia Universidad Catolica Del Peru     311\n",
      "Upc                                          287\n",
      "Universidad Nacional Mayor De San Marcos     280\n",
      "Universidad Privada Del Norte                278\n",
      "Universidad Esan                             228\n",
      "Universidad Cesar Vallejo                    212\n",
      "Universidad De Lima                          205\n",
      "Cibertec                                     203\n",
      "Instituto Cibertec                           193\n",
      "Universidad Nacional De Ingenieria           189\n",
      "Universidad Ricardo Palma                    178\n",
      "Universidad De San Martin De Porres          173\n",
      "Universidad Nacional Federico Villarreal     171\n",
      "Universidad Inca Garcilaso De La Vega        170\n",
      "Isil                                         159\n",
      "Utp                                          144\n",
      "Universidad San Ignacio De Loyola            131\n",
      "Tecsup                                       119\n",
      "Name: studyCenter, dtype: int64\n"
     ]
    },
    {
     "data": {
      "image/png": "[encoded data removed]",
      "text/plain": [
       "<Figure size 640x480 with 1 Axes>"
      ]
     },
     "metadata": {},
     "output_type": "display_data"
    },
    {
     "name": "stdout",
     "output_type": "stream",
     "text": [
      "Ing. En Sistemas                  2146\n",
      "Tecnologias De La Informacion     1189\n",
      "Adm. De Empresas                  1103\n",
      "Ing. Informatica                   582\n",
      "Ing. Industrial                    461\n",
      "Computacion / Informatica          451\n",
      "Marketing / Comercializacion       362\n",
      "Recursos Humanos / Relac. Ind.     352\n",
      "Psicologia                         347\n",
      "Otra                               338\n",
      "Ing. - Otros                       179\n",
      "Trabajo Social                     142\n",
      "Analisis De Sistemas               122\n",
      "Ing. Telecomunicaciones            119\n",
      "Programacion                       115\n",
      "Telecomunicaciones                 112\n",
      "Finanzas                            96\n",
      "Procesos / Calidad Total            89\n",
      "Bachiller                           88\n",
      "Ing. Electronica                    85\n",
      "Name: careerField, dtype: int64\n"
     ]
    },
    {
     "data": {
      "image/png": "[encoded data removed]",
      "text/plain": [
       "<Figure size 640x480 with 1 Axes>"
      ]
     },
     "metadata": {},
     "output_type": "display_data"
    },
    {
     "name": "stdout",
     "output_type": "stream",
     "text": [
      "Graduado      6233\n",
      "En Curso      3174\n",
      "Abandonado     145\n",
      "                 6\n",
      "Name: careerStatus, dtype: int64\n"
     ]
    },
    {
     "data": {
      "image/png": "[encoded data removed]",
      "text/plain": [
       "<Figure size 640x480 with 1 Axes>"
      ]
     },
     "metadata": {},
     "output_type": "display_data"
    },
    {
     "name": "stdout",
     "output_type": "stream",
     "text": [
      "Universitario        4724\n",
      "Otro                 2149\n",
      "Posgrado             1151\n",
      "Terciario/Tecnico     927\n",
      "Master                579\n",
      "Doctorado              13\n",
      "Secundario             10\n",
      "                        5\n",
      "Name: careerDegree, dtype: int64\n"
     ]
    },
    {
     "data": {
      "image/png": "[encoded data removed]",
      "text/plain": [
       "<Figure size 640x480 with 1 Axes>"
      ]
     },
     "metadata": {},
     "output_type": "display_data"
    },
    {
     "name": "stdout",
     "output_type": "stream",
     "text": [
      "1     3559\n",
      "2     2240\n",
      "3     1131\n",
      "4      676\n",
      "5      433\n",
      "6      404\n",
      "7      281\n",
      "8      176\n",
      "9      139\n",
      "11     114\n",
      "10      89\n",
      "12      68\n",
      "14      50\n",
      "13      40\n",
      "16      24\n",
      "15      21\n",
      "20      19\n",
      "17      16\n",
      "18      16\n",
      "19      14\n",
      "Name: studiesNumber, dtype: int64\n"
     ]
    },
    {
     "name": "stderr",
     "output_type": "stream",
     "text": [
      "C:\\Users\\Ronaldo\\AppData\\Local\\Temp\\ipykernel_17716\\4026972587.py:10: FutureWarning: The behavior of `series[i:j]` with an integer-dtype index is deprecated. In a future version, this will be treated as *label-based* indexing, consistent with e.g. `series[i]` lookups. To retain the old behavior, use `series.iloc[i:j]`. To get the future behavior, use `series.loc[i:j]`.\n",
      "  top10 = df[column].value_counts()[:dataVisualizationTopLimit]\n"
     ]
    },
    {
     "data": {
      "image/png": "[encoded data removed]",
      "text/plain": [
       "<Figure size 640x480 with 1 Axes>"
      ]
     },
     "metadata": {},
     "output_type": "display_data"
    },
    {
     "name": "stdout",
     "output_type": "stream",
     "text": [
      "Fin: 2023-05-11 01:37:09.360531\n",
      "Tiempo: 0:01:29.075453\n"
     ]
    }
   ],
   "source": [
    "def main():\n",
    "  # Definiendo el inicio del proceso\n",
    "  startTime = datetime.datetime.now()\n",
    "  print(\"Inicio: \" + str(startTime))\n",
    "  print(\"Se inició el procesamiento\")\n",
    "\n",
    "  # El dataset principal que sea el de bumeran\n",
    "  # Los otros archivos que solo se usen para actualizar la variable objetivo\n",
    "  # Esto porque los otros orígenes están incompletos y costaría llenar los campos (incluso el excel que se hizo)\n",
    "  isLoadedBumeran = False\n",
    "  isLoadedLinkedin = True\n",
    "  isMergedMain = False\n",
    "  #False\n",
    "\n",
    "  # Leyendo o calculando bumeran\n",
    "  bumeranData = readJson(os.path.join(intermFilesFolder, 'bumeran.json')) if isLoadedBumeran else readAndWriteMain('bumeran')\n",
    "  print(\"Se terminó de procesar Bumeran\")\n",
    "\n",
    "  # Leyendo o calculando linkedin\n",
    "  linkedinData = readJson(os.path.join(intermFilesFolder, 'linkedin.json')) if isLoadedLinkedin else readAndWriteMain('linkedin')\n",
    "  print(\"Se terminó de procesar Linkedin\")\n",
    "\n",
    "  # Uniendo la data principal (bumeran + linkedin)\n",
    "  mergedMainData = readJson(os.path.join(mergedMainFolder, 'result.json')) if isMergedMain else readAndWriteMergedMain([bumeranData, linkedinData])\n",
    "  print(\"Se terminó de unir la data principal\")\n",
    "\n",
    "  visualizeData(mergedMainData)\n",
    "  \n",
    "  # Definiendo el fin del proceso\n",
    "  endTime = datetime.datetime.now()\n",
    "  print(\"Fin: \" + str(endTime))\n",
    "  print(\"Tiempo: \" + str(endTime-startTime))\n",
    "\n",
    "  #print(counterIn)\n",
    "  #print(counterOut)\n",
    "\n",
    "if __name__ == \"__main__\":\n",
    "  main()"
   ]
  }
 ],
 "metadata": {
  "kernelspec": {
   "display_name": "Python 3 (ipykernel)",
   "language": "python",
   "name": "python3"
  },
  "language_info": {
   "codemirror_mode": {
    "name": "ipython",
    "version": 3
   },
   "file_extension": ".py",
   "mimetype": "text/x-python",
   "name": "python",
   "nbconvert_exporter": "python",
   "pygments_lexer": "ipython3",
   "version": "3.9.13"
  }
 },
 "nbformat": 4,
 "nbformat_minor": 5
}
