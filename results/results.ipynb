{
 "cells": [
  {
   "cell_type": "code",
   "execution_count": 672,
   "id": "dad0ac25",
   "metadata": {},
   "outputs": [],
   "source": [
    "import numpy as np\n",
    "import pandas as pd\n",
    "from sklearn.neighbors import KNeighborsClassifier\n",
    "from sklearn.linear_model import LogisticRegression\n",
    "from sklearn.naive_bayes import GaussianNB\n",
    "from sklearn.tree import DecisionTreeClassifier\n",
    "from sklearn.svm import SVC\n",
    "from sklearn.ensemble import RandomForestClassifier\n",
    "from sklearn.ensemble import GradientBoostingClassifier\n",
    "from sklearn.model_selection import train_test_split, KFold, StratifiedKFold, ShuffleSplit, StratifiedShuffleSplit\n",
    "from sklearn.metrics import f1_score, precision_score, confusion_matrix, accuracy_score, recall_score\n",
    "from sklearn.compose import make_column_transformer\n",
    "from sklearn.preprocessing import OneHotEncoder, MinMaxScaler, LabelEncoder, OrdinalEncoder\n",
    "import datetime\n",
    "import os\n",
    "import csv\n",
    "import math\n",
    "import itertools\n",
    "import matplotlib.pyplot as plt\n",
    "import matplotlib.ticker as mtick\n",
    "import seaborn as sns\n",
    "from scipy import stats\n",
    "\n",
    "np.set_printoptions(linewidth=np.inf)\n",
    "\n",
    "import warnings\n",
    "warnings.simplefilter(action='ignore', category=FutureWarning)"
   ]
  },
  {
   "cell_type": "code",
   "execution_count": 673,
   "id": "763cd073",
   "metadata": {},
   "outputs": [],
   "source": [
    "# Parámetros\n",
    "inputFolder = \"1-input\"\n",
    "processFolder = \"2-process\"\n",
    "outputFolder = \"3-output\"\n",
    "logsFolder = \"4-logs\"\n",
    "\n",
    "inputPretestFolder = inputFolder + r\"\\1-pretest\"\n",
    "inputPosttestFolder = inputFolder + r\"\\2-posttest\"\n",
    "\n",
    "dataVisualizationTopLimit = 20\n",
    "\n",
    "testSize = 0.25\n",
    "genericRandomState = 0\n",
    "splitRandomState = 0\n",
    "samplingStrategy = 0.2\n",
    "percentileNumberStd = 90\n",
    "percentileNumberCorrelation = 90\n",
    "\n",
    "splitsNumber = 12"
   ]
  },
  {
   "cell_type": "code",
   "execution_count": 674,
   "id": "04039987",
   "metadata": {},
   "outputs": [],
   "source": [
    "# Funciones utilitarias de archivos\n",
    "def readCsvAsDict(filePath, delimiter=\",\", encoding=\"utf-8\", header=0, dtype={}):\n",
    "  df = pd.read_csv(filePath, delimiter=delimiter,encoding=encoding, header=header, dtype=dtype)\n",
    "  df = df.replace(np.nan, '', regex=True)\n",
    "  data = df.to_dict('records')\n",
    "  return data\n",
    "\n",
    "def readCsvAsDf(filePath, delimiter=\",\", encoding=\"utf-8\", header=0, dtype={}):\n",
    "  df = pd.read_csv(filePath, delimiter=delimiter,encoding=encoding, header=header, dtype=dtype)\n",
    "  df = df.replace(np.nan, '', regex=True)\n",
    "  return df\n",
    "\n",
    "def writeDictToCsv(data, pathCsv, encoding='utf-8'):\n",
    "  with open(pathCsv, 'w', newline='', encoding=encoding) as f:\n",
    "    if data:\n",
    "      writer = csv.DictWriter(f, fieldnames=data[0].keys(), lineterminator='\\n')\n",
    "      writer.writeheader()\n",
    "      writer.writerows(data)\n",
    "    else:\n",
    "      f.write(\"\")\n",
    "\n",
    "def writeDfToCsv(data, pathCsv, encoding='utf-8', header=True):\n",
    "  data.to_csv(path_or_buf = pathCsv, encoding = encoding, header=header, index=False)\n",
    "\n",
    "def parseTranspose(df):\n",
    "  transposedDf = df.transpose()\n",
    "  transposedDf = transposedDf.reset_index()\n",
    "  transposedDf.columns = transposedDf.iloc[0]\n",
    "  transposedDf = transposedDf[1:]\n",
    "\n",
    "  return transposedDf"
   ]
  },
  {
   "cell_type": "code",
   "execution_count": 675,
   "id": "7452d6e9",
   "metadata": {},
   "outputs": [],
   "source": [
    "def showDescriptiveTables(preTestDf, postTestDf, indicator):\n",
    "  indicatorPreTestData, indicatorPostTestData = preTestDf[indicator].to_numpy(), postTestDf[indicator].to_numpy()\n",
    "  \n",
    "  descriptiveMeasuresDf = pd.DataFrame({\n",
    "    \"Nombre\": [\"PreTest_{}\".format(indicator.capitalize()), \"PostTest_{}\".format(indicator.capitalize())],\n",
    "    \"Muestra\": [ \"{:.0f}\".format(indicatorPreTestData.size), \"{:.0f}\".format(indicatorPostTestData.size) ],\n",
    "    \"Mínimo\": [ \"{:.4f}\".format(indicatorPreTestData.min()), \"{:.4f}\".format(indicatorPostTestData.min()) ],\n",
    "    \"Máximo\": [ \"{:.4f}\".format(indicatorPreTestData.max()), \"{:.4f}\".format(indicatorPostTestData.max()) ],\n",
    "    \"Media\": [ \"{:.4f}\".format(indicatorPreTestData.mean()), \"{:.4f}\".format(indicatorPostTestData.mean()) ],\n",
    "    \"Desviación estándar\": [ \"{:.4f}\".format(indicatorPreTestData.std()), \"{:.4f}\".format(indicatorPostTestData.std()) ],\n",
    "  })\n",
    "\n",
    "  display(descriptiveMeasuresDf.style.hide_index())"
   ]
  },
  {
   "cell_type": "code",
   "execution_count": 676,
   "id": "7e249c69",
   "metadata": {},
   "outputs": [],
   "source": [
    "def showMeanDifference(preTestDf, postTestDf, indicator):\n",
    "  indicatorPreTestData, indicatorPostTestData = preTestDf[indicator].to_numpy(), postTestDf[indicator].to_numpy()\n",
    "\n",
    "  colors = [\"#7CAFDE\", \"#7CAFDE\"]\n",
    "  classes = [ \"PreTest\", \"PostTest\"]\n",
    "  values =  [ indicatorPreTestData.mean(), indicatorPostTestData.mean() ]\n",
    "  graph = plt.bar(classes, values, color=colors)\n",
    "\n",
    "  percentage = []\n",
    "  for value in values:\n",
    "    percentage.append(value)\n",
    "\n",
    "  if indicator != \"tiempo\":\n",
    "    for index, p in enumerate(graph):\n",
    "      width = p.get_width()\n",
    "      height = p.get_height()\n",
    "      x, y = p.get_xy()\n",
    "      plt.text(x+width/2, y+0.5*height, \"{:.2%}\".format(percentage[index]), ha='center', weight='bold')\n",
    "\n",
    "    plt.gca().yaxis.set_major_formatter(mtick.PercentFormatter(xmax=1.0))\n",
    "    plt.ylabel(\"Porcentaje\")\n",
    "  else:\n",
    "    for index, p in enumerate(graph):\n",
    "      width = p.get_width()\n",
    "      height = p.get_height()\n",
    "      x, y = p.get_xy()\n",
    "      plt.text(x+width/2, y+0.5*height, \"{:.2f}s\".format(percentage[index]), ha='center', weight='bold')\n",
    "\n",
    "    plt.gca().yaxis.set_major_formatter(mtick.FuncFormatter(lambda x, y: \"{:.0f}s\".format(x)))\n",
    "    plt.ylabel(\"Segundos\")\n",
    "  \n",
    "  plt.title(\"Media de {}\".format(indicator))\n",
    "  plt.show()"
   ]
  },
  {
   "cell_type": "code",
   "execution_count": 677,
   "id": "549884ec",
   "metadata": {},
   "outputs": [],
   "source": [
    "def showNormalityTable(preTestDf, postTestDf, indicator):\n",
    "  indicatorPreTestData, indicatorPostTestData = preTestDf[indicator].to_numpy(), postTestDf[indicator].to_numpy()\n",
    "\n",
    "  preTestStatistic, preTestPValue = stats.shapiro(indicatorPreTestData)\n",
    "  postTestStatistic, postTestPValue = stats.shapiro(indicatorPostTestData)\n",
    "  \n",
    "  descriptiveMeasuresDf = pd.DataFrame({\n",
    "    \"Nombre\": [\"PreTest_{}\".format(indicator.capitalize()), \"PostTest_{}\".format(indicator.capitalize())],\n",
    "    \"Estadístico\": [ \"{:.4f}\".format(preTestStatistic), \"{:.4f}\".format(postTestStatistic) ],\n",
    "    \"Grados de libertad\": [ \"{:.0f}\".format(indicatorPreTestData.size), \"{:.0f}\".format(indicatorPostTestData.size) ],\n",
    "    \"P Valor\": [ \"{:.4f}\".format(preTestPValue), \"{:.4f}\".format(postTestPValue) ],\n",
    "  })\n",
    "\n",
    "  display(descriptiveMeasuresDf.style.hide_index())"
   ]
  },
  {
   "cell_type": "code",
   "execution_count": 678,
   "id": "f44c7abf",
   "metadata": {},
   "outputs": [],
   "source": [
    "def showHistogram(df, indicator):\n",
    "  data = df[indicator].to_numpy()\n",
    "  \n",
    "  mu, std = stats.norm.fit(data) \n",
    "\n",
    "  plt.hist(data, bins=9, color=\"tab:blue\", ec=\"black\")\n",
    "\n",
    "  xmin, xmax = plt.xlim()\n",
    "  x = np.linspace(xmin, xmax, 100)\n",
    "  p = stats.norm.pdf(x, mu, std)*(xmax - xmin)*5\n",
    "\n",
    "  plt.plot(x, p, 'k')\n",
    "\n",
    "  plt.show()"
   ]
  },
  {
   "cell_type": "code",
   "execution_count": 679,
   "id": "bdd05864",
   "metadata": {},
   "outputs": [],
   "source": [
    "def hypothesisTesting(preTestDf, postTestDf, indicator):\n",
    "  \"\"\"print(\"{}\".format(column))\n",
    "\n",
    "  postTestValues = \n",
    "\n",
    "  showHistogram(postTestValues)\n",
    "\n",
    "  _, preTestPValue = stats.shapiro(preTestValues)\n",
    "  print(\"P valor del pretest: {:.4f} -> {} es normal \".format(preTestPValue, \"Si\" if preTestPValue > 0.05 else \"No\"))\n",
    "  _, postTestPValue = stats.shapiro(postTestValues)\n",
    "  print(\"P valor del posttest: {:.4f} -> {} es normal \".format(postTestPValue, \"Si\" if postTestPValue > 0.05 else \"No\"))\n",
    "  if (preTestPValue > 0.05 and postTestPValue > 0.05):\n",
    "    print(\"Ambas distribuciones son normales, se usará la prueba t student\")\n",
    "    _, comparePValue = stats.ttest_ind(preTestValues, postTestValues)\n",
    "  else:\n",
    "    print(\"Al menos una distribución es no normal, se usará la prueba de wilcoxon\")\n",
    "    _, comparePValue = stats.wilcoxon(preTestValues, postTestValues)\n",
    "  print(\"P valor de la comparación: {:.4f} -> {} -> {}\".format(comparePValue,\n",
    "                                                                \"Se rechaza H0\" if comparePValue < 0.05 else \"No se rechaza H0\",\n",
    "                                                                \"Las medias son diferentes\" if comparePValue < 0.05 else \"Las medias son iguales\"\n",
    "                                                              ))\"\"\"\n",
    "\n",
    "  print()\n",
    "\n",
    "  # Tiempo promedio\n",
    "  # Primer pvalue: 0.6839864253997803\n",
    "  # Segundo pvalue: 0.03948163986206055"
   ]
  },
  {
   "cell_type": "code",
   "execution_count": 680,
   "id": "83f3c4f0",
   "metadata": {},
   "outputs": [],
   "source": [
    "def main():\n",
    "  # Definiendo el inicio del proceso\n",
    "  startTime = datetime.datetime.now()\n",
    "  print(\"Inicio: \" + str(startTime))\n",
    "\n",
    "  # Obteniendo data de pretest y postest\n",
    "  preTestDf = readCsvAsDf(os.path.join(inputPretestFolder, 'result.csv'))\n",
    "  postTestDf = readCsvAsDf(os.path.join(inputPosttestFolder, 'result.csv'))\n",
    "\n",
    "  # Definiendo los indicadores\n",
    "  #indicators = [\"exactitud\", \"precision\", \"sensibilidad\", \"robustez\", \"tiempo\"]\n",
    "  indicators = [\"exactitud\"]\n",
    "\n",
    "  # Iterando por cada indicador\n",
    "  for indicator in indicators:\n",
    "    showDescriptiveTables(preTestDf, postTestDf, indicator)\n",
    "\n",
    "    showMeanDifference(preTestDf, postTestDf, indicator)\n",
    "\n",
    "    showNormalityTable(preTestDf, postTestDf, indicator)\n",
    "\n",
    "    showHistogram(preTestDf, indicator)\n",
    "\n",
    "    showHistogram(postTestDf, indicator)\n",
    "\n",
    "    #hypothesisTesting(preTestDf, postTestDf, indicator)\n",
    "    pass\n",
    "\n",
    "  # Definiendo el fin del proceso\n",
    "  endTime = datetime.datetime.now()\n",
    "  print(\"Fin: \" + str(endTime))\n",
    "  print(\"Tiempo: \" + str(endTime-startTime))"
   ]
  },
  {
   "cell_type": "code",
   "execution_count": 681,
   "id": "7c95c684",
   "metadata": {},
   "outputs": [
    {
     "name": "stdout",
     "output_type": "stream",
     "text": [
      "Inicio: 2023-07-07 02:15:56.092018\n"
     ]
    },
    {
     "data": {
      "text/html": [
       "<style type=\"text/css\">\n",
       "</style>\n",
       "<table id=\"T_5858f\">\n",
       "  <thead>\n",
       "    <tr>\n",
       "      <th id=\"T_5858f_level0_col0\" class=\"col_heading level0 col0\" >Nombre</th>\n",
       "      <th id=\"T_5858f_level0_col1\" class=\"col_heading level0 col1\" >Muestra</th>\n",
       "      <th id=\"T_5858f_level0_col2\" class=\"col_heading level0 col2\" >Mínimo</th>\n",
       "      <th id=\"T_5858f_level0_col3\" class=\"col_heading level0 col3\" >Máximo</th>\n",
       "      <th id=\"T_5858f_level0_col4\" class=\"col_heading level0 col4\" >Media</th>\n",
       "      <th id=\"T_5858f_level0_col5\" class=\"col_heading level0 col5\" >Desviación estándar</th>\n",
       "    </tr>\n",
       "  </thead>\n",
       "  <tbody>\n",
       "    <tr>\n",
       "      <td id=\"T_5858f_row0_col0\" class=\"data row0 col0\" >PreTest_Exactitud</td>\n",
       "      <td id=\"T_5858f_row0_col1\" class=\"data row0 col1\" >48</td>\n",
       "      <td id=\"T_5858f_row0_col2\" class=\"data row0 col2\" >0.8486</td>\n",
       "      <td id=\"T_5858f_row0_col3\" class=\"data row0 col3\" >0.9971</td>\n",
       "      <td id=\"T_5858f_row0_col4\" class=\"data row0 col4\" >0.9234</td>\n",
       "      <td id=\"T_5858f_row0_col5\" class=\"data row0 col5\" >0.0500</td>\n",
       "    </tr>\n",
       "    <tr>\n",
       "      <td id=\"T_5858f_row1_col0\" class=\"data row1 col0\" >PostTest_Exactitud</td>\n",
       "      <td id=\"T_5858f_row1_col1\" class=\"data row1 col1\" >48</td>\n",
       "      <td id=\"T_5858f_row1_col2\" class=\"data row1 col2\" >0.9930</td>\n",
       "      <td id=\"T_5858f_row1_col3\" class=\"data row1 col3\" >0.9994</td>\n",
       "      <td id=\"T_5858f_row1_col4\" class=\"data row1 col4\" >0.9963</td>\n",
       "      <td id=\"T_5858f_row1_col5\" class=\"data row1 col5\" >0.0017</td>\n",
       "    </tr>\n",
       "  </tbody>\n",
       "</table>\n"
      ],
      "text/plain": [
       "<pandas.io.formats.style.Styler at 0x288a2afc640>"
      ]
     },
     "metadata": {},
     "output_type": "display_data"
    },
    {
     "data": {
      "image/png": "[encoded data removed]",
      "text/plain": [
       "<Figure size 640x480 with 1 Axes>"
      ]
     },
     "metadata": {},
     "output_type": "display_data"
    },
    {
     "data": {
      "text/html": [
       "<style type=\"text/css\">\n",
       "</style>\n",
       "<table id=\"T_ca653\">\n",
       "  <thead>\n",
       "    <tr>\n",
       "      <th id=\"T_ca653_level0_col0\" class=\"col_heading level0 col0\" >Nombre</th>\n",
       "      <th id=\"T_ca653_level0_col1\" class=\"col_heading level0 col1\" >Estadístico</th>\n",
       "      <th id=\"T_ca653_level0_col2\" class=\"col_heading level0 col2\" >Grados de libertad</th>\n",
       "      <th id=\"T_ca653_level0_col3\" class=\"col_heading level0 col3\" >P Valor</th>\n",
       "    </tr>\n",
       "  </thead>\n",
       "  <tbody>\n",
       "    <tr>\n",
       "      <td id=\"T_ca653_row0_col0\" class=\"data row0 col0\" >PreTest_Exactitud</td>\n",
       "      <td id=\"T_ca653_row0_col1\" class=\"data row0 col1\" >0.9027</td>\n",
       "      <td id=\"T_ca653_row0_col2\" class=\"data row0 col2\" >48</td>\n",
       "      <td id=\"T_ca653_row0_col3\" class=\"data row0 col3\" >0.0008</td>\n",
       "    </tr>\n",
       "    <tr>\n",
       "      <td id=\"T_ca653_row1_col0\" class=\"data row1 col0\" >PostTest_Exactitud</td>\n",
       "      <td id=\"T_ca653_row1_col1\" class=\"data row1 col1\" >0.9540</td>\n",
       "      <td id=\"T_ca653_row1_col2\" class=\"data row1 col2\" >48</td>\n",
       "      <td id=\"T_ca653_row1_col3\" class=\"data row1 col3\" >0.0581</td>\n",
       "    </tr>\n",
       "  </tbody>\n",
       "</table>\n"
      ],
      "text/plain": [
       "<pandas.io.formats.style.Styler at 0x288a2beef50>"
      ]
     },
     "metadata": {},
     "output_type": "display_data"
    },
    {
     "data": {
      "image/png": "[encoded data removed]",
      "text/plain": [
       "<Figure size 640x480 with 1 Axes>"
      ]
     },
     "metadata": {},
     "output_type": "display_data"
    },
    {
     "data": {
      "image/png": "[encoded data removed]",
      "text/plain": [
       "<Figure size 640x480 with 1 Axes>"
      ]
     },
     "metadata": {},
     "output_type": "display_data"
    },
    {
     "name": "stdout",
     "output_type": "stream",
     "text": [
      "Fin: 2023-07-07 02:15:56.345996\n",
      "Tiempo: 0:00:00.253978\n"
     ]
    }
   ],
   "source": [
    "if __name__ == \"__main__\":\n",
    "  main()"
   ]
  }
 ],
 "metadata": {
  "kernelspec": {
   "display_name": "Python 3 (ipykernel)",
   "language": "python",
   "name": "python3"
  },
  "language_info": {
   "codemirror_mode": {
    "name": "ipython",
    "version": 3
   },
   "file_extension": ".py",
   "mimetype": "text/x-python",
   "name": "python",
   "nbconvert_exporter": "python",
   "pygments_lexer": "ipython3",
   "version": "3.10.9"
  }
 },
 "nbformat": 4,
 "nbformat_minor": 5
}
